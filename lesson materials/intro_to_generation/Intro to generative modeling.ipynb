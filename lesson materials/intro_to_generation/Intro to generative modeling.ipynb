{
 "cells": [
  {
   "cell_type": "code",
   "execution_count": 2,
   "id": "02ea2cc7",
   "metadata": {},
   "outputs": [],
   "source": [
    "import matplotlib.pyplot as plt\n",
    "import numpy as np\n",
    "import scipy.stats as stats\n",
    "\n",
    "# Устанавливаем глобальный seed для всех случайностей\n",
    "np.random.seed(42)"
   ]
  },
  {
   "cell_type": "markdown",
   "id": "40095706",
   "metadata": {},
   "source": [
    "# Введение в генеративное моделирование"
   ]
  },
  {
   "cell_type": "markdown",
   "id": "99c8ca20",
   "metadata": {},
   "source": [
    "### Структура работы генеративной модели\n",
    "___Генеративная модель___ оценивает __p(x)__ — вероятность получения наблюдения x."
   ]
  },
  {
   "cell_type": "markdown",
   "id": "8fa970a3",
   "metadata": {},
   "source": [
    "![title](images/generationpipe.png)"
   ]
  },
  {
   "cell_type": "markdown",
   "id": "d63b63ee",
   "metadata": {},
   "source": [
    "### Прогресс в генерации лиц"
   ]
  },
  {
   "cell_type": "markdown",
   "id": "af387ce4",
   "metadata": {},
   "source": [
    "![title](images/progress2.png)\n",
    "\n",
    "В нижнем ряду показаны примеры генерации лиц из работы:\n",
    "\n",
    "Karras, T., Laine, S., & Aila, T. (2019). A style-based generator architecture for generative adversarial networks. In Proceedings of the IEEE/CVF conference on computer vision and pattern recognition (pp. 4401-4410).\n",
    "* proceedings работы ([ссылка](https://ieeexplore.ieee.org/document/8953766/authors#authors))\n",
    "* онлайн сервис, с большим количеством примеров ([ссылка](https://generated.photos/faces))"
   ]
  },
  {
   "cell_type": "markdown",
   "id": "cdcae79e",
   "metadata": {},
   "source": [
    "### Примеры генерации по текстовому описанию\n",
    "\n",
    "Нарисуй картину с абстрактными фрактальными конструкциями, похожими на структура мозга расползающимися среди галактик.\n",
    "![title](images/brain_universe.png)\n",
    "\n",
    "Замени фрактальные структуры мозга на интегральные схемы. Как будто среди вселенной распространяется ИИ.\n",
    "![title](images/chip_universe.png)\n",
    "\n",
    "Cгенерируй реалистичную фотографию мужчины средних лет одетого в костюм штурмовика без шлема с эмблемой кока-колы на нагруднике.\n",
    "![title](images/star_wars_man.png)"
   ]
  },
  {
   "cell_type": "markdown",
   "id": "ff66173a",
   "metadata": {},
   "source": [
    "## Основы генеративного моделирования"
   ]
  },
  {
   "cell_type": "markdown",
   "id": "0905dbb4",
   "metadata": {},
   "source": [
    "Набор точек __X__ сгенерирован правилом _Pdata_.\n",
    "\n",
    "Возьмите на себя роль генеративной модели). Выберете точку _(x1, x2)_ чтобы она принадлежала распределению _Pdata_.\n",
    "\n"
   ]
  },
  {
   "cell_type": "markdown",
   "id": "0711516a",
   "metadata": {},
   "source": [
    "![title](images/pdata.png)"
   ]
  },
  {
   "cell_type": "markdown",
   "id": "dc9e04cf",
   "metadata": {},
   "source": [
    "* Точка А нарушает правило 1 базовых принципов генеративного моделирования — ясно видно, что она не принадлежит распределению pdata, поскольку находится посреди моря.\n",
    "\n",
    "* Точка B настолько близко расположена от точки из исходного набора данных, что мы не впечатлены способностью модели создать такую точку. Если все образцы, сгенерированные моделью, будут расположены так же близко к точкам из исходного набора, то это можно считать нарушением правила 2 базовых принципов генеративного моделирования.\n",
    "\n",
    "* Точку C можно рассматривать как успех, потому что она вполне могла быть получена из распределения pdata и существенно отличается от всех точек в исходном наборе."
   ]
  },
  {
   "cell_type": "markdown",
   "id": "12c57594",
   "metadata": {},
   "source": [
    "![title](images/gtdata.png)"
   ]
  },
  {
   "cell_type": "markdown",
   "id": "034efbc2",
   "metadata": {},
   "source": [
    "# Генеративная модель"
   ]
  },
  {
   "cell_type": "markdown",
   "id": "ffc58567",
   "metadata": {},
   "source": [
    "На примере с картой мира мы побывали в роли генеративной модели.\n",
    "\n",
    "Еще раз рассмотрим как работает генеративная модель.\n",
    "\n",
    "![image](images/source_of_data.png)"
   ]
  },
  {
   "cell_type": "markdown",
   "id": "3ca7fbaf",
   "metadata": {},
   "source": [
    "У нас есть некоторый источник порождающий данные $X^{data}$.\n",
    "\n",
    "$Х^{data}$ - это случайная величина.\n",
    "Случайная, т.е. есть Неопределенность. Мы не знаем какое значение будет получено следующим.\n",
    "\n",
    "Для нас Источник данных это \"черная коробочка\" или \"таинственный сундук\".\n",
    "\n",
    "Как он устроен внутри неизвестно.\n",
    "\n",
    "Неизвестно статистическое распределение $P_{data}$ (или вероятностная модель) согласно которой генерируются эти данные $X^{data}$.\n",
    "\n",
    "В целом распределения $P_{data}$ у Источника может и не быть, но в задаче генеративного моделирования мы полагаем, что оно есть.\n",
    "\n",
    "Мы наблюдали за Источником, и собрали некоторую выборку $X^{data}$ из экспериментальных данных $X^{data}=\\left\\lbrace X_1^{data}, X_2^{data},X_3^{data}, ...,\\right\\rbrace$ , размером $n$.\n",
    "\n",
    "Пока мы рассматриваем одномерную случайную величину $X^{data}$  , она является действительным числом.\n",
    "Отобразим все значения выборки $Х^{data}$ на Оси $Х$."
   ]
  },
  {
   "cell_type": "markdown",
   "id": "53d431c3",
   "metadata": {},
   "source": [
    "![image](images/generative_model.png)"
   ]
  },
  {
   "cell_type": "markdown",
   "id": "ee6815c8",
   "metadata": {},
   "source": [
    "**Генеративная модель:**\n",
    "* принимает в себя экспериментальную выборку значений $Х^{data}$\n",
    "* моделирует статистическое распределение наших данных на основе значений $Х^{data}$\n",
    "\n",
    "Она \"подбирает\" статистическое распределение $P_{model}(Х)$, которое по ее мнению лучшим образом описывает процесс генерации данных.\n",
    "Имея распределение $P_{model}(Х)$, мы можем генерировать новые образцы данных $X^{model}$, но уже из этого распределения.\n",
    "\n",
    "Мы хотим, чтобы:\n",
    "* Сгенерированные ей образы $X^{model}$ были похожими на образцы $X^{data}$.\n",
    "\n",
    "Чем больше $P_{model}(Х)$ походит на $P_{data}(X)$, тем больше образцы $X^{model}$ будут походить на образцы $X^{data}$.\n",
    "\n",
    "* Модель генерировала новые образцы, отличающиеся от тех, что были в обучающей выборке $X$.\n",
    "\n",
    "А не просто запомнила, нашу выборку и отдавала значения из нее."
   ]
  },
  {
   "cell_type": "markdown",
   "id": "72210590",
   "metadata": {},
   "source": [
    "# Дискретная случайная величина\n",
    "\n",
    "И так сейчас мы отправимся в `Мир дискретных случайных величин`!\n",
    "\n",
    "Я так же подготовил для Вас небольшое приключение в `Мире непрерывных случайных величин` =)\n",
    "\n",
    "Jupyter Notebook `additional materials/1.probability_and_likelihood_continuous_variable_Normal.ipynb`."
   ]
  },
  {
   "cell_type": "markdown",
   "id": "0db82c3f",
   "metadata": {},
   "source": [
    "![title](images/discrete_distributions.png)"
   ]
  },
  {
   "cell_type": "markdown",
   "id": "fb600391",
   "metadata": {},
   "source": [
    "# Теория вероятностей"
   ]
  },
  {
   "cell_type": "markdown",
   "id": "5a7215ae",
   "metadata": {},
   "source": [
    "\n",
    "\n",
    "В контексте генеративных моделей мы остановимся на том, что `Теория вероятности`:\n",
    "\n",
    "* Изучает случайные события\n",
    "* Моделирует случайные события с помощью статистических распределений (моделей) с некоторыми параметрами\n",
    "\n",
    "Для генерации чисел мы можем использовать распределения из Теории вероятностей.\n",
    "\n",
    "Например, такие как на рисунке ниже."
   ]
  },
  {
   "cell_type": "markdown",
   "id": "adb8dee5",
   "metadata": {},
   "source": [
    "![image](images/continious_and_discrete_distributions.jpg)"
   ]
  },
  {
   "cell_type": "markdown",
   "id": "1da1e4a2",
   "metadata": {},
   "source": [
    "Отметим, что случайные величины бывают дискретными и непрерывными (см. рисунок ниже).\n",
    "\n",
    "Дискретная случ. величина - принимает конечное или счетное множество значений.\n",
    "- **Пример:** Количество очков, выпавших при броске игральной кости.\n",
    "\n",
    "Непрерывная случ. величина - принимает любые значения из некоторого непрерывного интервала.\n",
    "* **Пример:** Нормированная координата по высоте экрана смартфона, куда пользователь тапнет пальцем.\n",
    "\n",
    "`Пространство элементарных событий` — множество $\\Omega$ всех возможных исходов случайного эксперимента. \n",
    "\n",
    "Будем обозначать $e_i$ - возможный исход эксперимента.\n",
    "\n",
    "**Пространства событий:**\n",
    "* у дискретной величины это конечное/счетное множество возможных исходов\n",
    "* у непрерывной - непрерывный отрезок\n",
    "\n",
    "**Подход к определению вероятности тоже разный:**\n",
    "* для непрерывной случайной величины задана **Функция плотности вероятности (Probability density function,  сокр. `PDF` )**\n",
    "\n",
    "`PDF` - это функция $f(x)$, которая определяет вероятность того, что непрерывная случайная величина $X$ примет значение в бесконечно малом интервале $\\left[x,x+dx\\right]$.\n",
    "\n",
    "* для дискретной случайной величины задана **Функция вероятности (Probability mass function сокр. `PMF` )**\n",
    "\n",
    "В англоязычном термине подчеркивается ее противоположность `плотности` вероятности в виде `массы` вероятности.\n",
    "\n",
    "`PMF` - это функция $f(x)$, возвращающая вероятность $P$ того, что дискретная случайная величина $x$ примет определённое значение."
   ]
  },
  {
   "cell_type": "markdown",
   "id": "83111a33",
   "metadata": {},
   "source": [
    "![image](images/random_variables.png)"
   ]
  },
  {
   "cell_type": "markdown",
   "id": "a0409915",
   "metadata": {},
   "source": [
    "Принципиальная разница(см. рисунок ниже) в том, что\n",
    "* при дискретной случ. величине вероятность определяется для опр. исхода (появление 4-очков на игральной кости)\n",
    "* для непрерывной случ. величины определяется вероятность попасть в интервал возможных значений величины Х( тапнуть в нижнюю часть экрана смартфона, нормированная координата по высоте от 0 до 0.5).\n",
    "\n",
    "Как мы видим, вероятность появления, конкретного значения $Х=a$ для непрерывной величины (в точке) равна 0, потому, что длинна отрезка $[a,a]$, равна 0.\n",
    "\n",
    "Здесь приведены примеры и свойства для:\n",
    "* функции плотности вероятности `PDF`\n",
    "* функции вероятности `PMF`"
   ]
  },
  {
   "cell_type": "markdown",
   "id": "1d5255b7",
   "metadata": {},
   "source": [
    "![image](images/pdf_and_pmf.png)"
   ]
  },
  {
   "cell_type": "markdown",
   "id": "f465f632",
   "metadata": {},
   "source": [
    "## Распределения дискретной случайной величины"
   ]
  },
  {
   "cell_type": "markdown",
   "id": "157f66f1",
   "metadata": {},
   "source": [
    "Функция вероятности (`PMF`) - обычно представлена дискретной функций в виде комбинаторной формулы с параметрами распределения.\n",
    "\n",
    "Иногда в виде таблицы (Например, Категориальное распределение):\n",
    "\n",
    "| значение элементарного исхода $e_i$ | вероятность появления |\n",
    "| ----------------------------------- | --------------------- |\n",
    "| 0                                   | 0.5                   |\n",
    "| 1                                   | 0.3                   |\n",
    "| 2                                   | 0.2                   |\n",
    "\n",
    "\n",
    "Свойства:\n",
    "* Значения $0\\le PMF\\left(X=x\\right)\\le1$\n",
    "* Сумма вероятностей всех событий $\\underset{i}{\\overset{m}{\\sum}}PMF(e_i)=1$\n",
    "\n",
    "Рассмотрим `PMF` и ее свойства на нескольких моделях распределений для дискретной случ. величины."
   ]
  },
  {
   "cell_type": "markdown",
   "id": "f1bf687f",
   "metadata": {},
   "source": [
    "### Категориальное распределение $Cat(p_d)$"
   ]
  },
  {
   "cell_type": "markdown",
   "id": "fc36e960",
   "metadata": {},
   "source": [
    "`Categorical distribution` - английский термин в статьях и фреймворках.\n",
    "\n",
    "В теории вероятностей **всегда** известен закон распределения и его параметры!\n",
    "\n",
    "Например, разработчики RPG-игры явно задают вероятности событий (см. рисунок ниже).\n",
    "\n",
    "**Схема эксперимента:**\n",
    "\n",
    "Есть персонаж игры и он может открыть сундук с сокровищами, используя отмычку.\n",
    "\n",
    "При открытии сундука персонаж может получить предметы 3х уровней:\n",
    "* дешевый предмет\n",
    "* обычный предмет\n",
    "* ценный предмет\n",
    "\n",
    "Используя категориальное распределение мы можем определить с какой вероятностью игрок будет получать ту или иную награду. "
   ]
  },
  {
   "cell_type": "markdown",
   "id": "6f4f1f69",
   "metadata": {},
   "source": [
    "![image](images/categorical_distribution.png)"
   ]
  },
  {
   "cell_type": "markdown",
   "id": "9b3d66b5",
   "metadata": {},
   "source": [
    "У нас есть схема `эксперимента с d-возможными исходами`.\n",
    "\n",
    "Мы рассматриваем 1 эксперимент и вероятности происхождения всех элементарных исходов $$\\Omega=\\left\\lbrace e_1, e_2, e_3, ..., e_d \\right\\rbrace$$\n",
    "\n",
    "Модель `Категориального распределения` $Cat(p_d)$ имеет параметр:\n",
    "   * $p_d$ - который представляет собой вектор вероятностей размерности $d$ для наступления каждого из элементарных исходов отдельного эксперимента.\n",
    "\n",
    "Моделируем вероятности получения награды с его помощью.\n",
    "\n",
    "`Пространство элементарных событий` в нашем случае:\n",
    "$$\\Omega=\\left\\lbrace 0, 1, 2 \\right\\rbrace$$\n",
    "\n",
    "В нашем случае, у нас 3 возможных исхода: `'0', '1', '2'`, и $d=3$.\n",
    "\n",
    "$p_{d=3}=[p_0, p_1, p_2]$:\n",
    "\n",
    "где\n",
    "* $p_0$ - вероятность наступления события `'0'`\n",
    "* $p_1$ - вероятность наступления события `'1'`\n",
    "* $p_2$ - вероятность наступления события `'2'`\n",
    "\n",
    "Поскольку это все возможные исходы эксперимента:\n",
    "$$\\underset{i}{\\overset{d}{\\sum}}p_i=1$$\n",
    "\n",
    "> Зафиксировав параметр $Cat(p_d)$ распределения $$\\theta=\\left\\lbrace p_d=[0.5, 0.3, 0.2] \\right\\rbrace$$ мы получаем точный статистический закон описывающий вероятностный процесс генерации всех наших данных, - `функцию вероятностей (PMF)` дискретного распределения."
   ]
  },
  {
   "cell_type": "markdown",
   "id": "32e9b082",
   "metadata": {},
   "source": [
    "#### Probability Mass Function"
   ]
  },
  {
   "cell_type": "markdown",
   "id": "74606a5a",
   "metadata": {},
   "source": [
    "`Функция вероятности (PMF)` для Категориального распределения $Cat(p_d)$:\n",
    "\n",
    "$$f\\left(x_i\\right)=Cat\\left(p_d \\mid x=x_i \\right)=\\left\\{\n",
    "\\begin{array}{llllllllll}\n",
    "\tp_1, x=e_1  \\\\\n",
    "\tp_2, x=e_2 \\\\\n",
    "\t... \\\\\n",
    "\tp_d, x=e_d\n",
    "\\end{array}\\right.$$\n",
    "\n",
    "при $x_i \\in \\Omega=\\left\\lbrace e_1, e_2, e_3, ..., e_d \\right\\rbrace$"
   ]
  },
  {
   "cell_type": "code",
   "execution_count": 19,
   "id": "95285078",
   "metadata": {},
   "outputs": [
    {
     "data": {
      "image/png": "[encoded data removed]",
      "text/plain": [
       "<Figure size 1000x600 with 1 Axes>"
      ]
     },
     "metadata": {},
     "output_type": "display_data"
    }
   ],
   "source": [
    "# готового варианта для Categorical Distribution не нашел написал свой вариант =)\n",
    "from categorical_distribution import CategoricalDistribution\n",
    "\n",
    "# Параметры распределения\n",
    "pd = [0.7, 0.2, 0.1]\n",
    "values = [0, 1, 2]\n",
    "\n",
    "# частный случай, - дискретное равномерное распределение (игральный 6-гранный кубик)\n",
    "# pd = [1/6, 1/6, 1/6, 1/6, 1/6, 1/6]\n",
    "# values = [1, 2, 3, 4, 5, 6]\n",
    "\n",
    "# частный случай, - распределение Бернулли\n",
    "# pd = [0.8, 0.2]\n",
    "# values = [0, 1]\n",
    "\n",
    "# значение k для которого хотим подписать вероятность на графике\n",
    "x_i = 1\n",
    "pd_round = np.array(pd).round(2).tolist()\n",
    "\n",
    "# Вычисляем функцию вероятностей (pmf)\n",
    "cat_dist = CategoricalDistribution(values=values, pd=pd)\n",
    "x = np.array(values)\n",
    "y = cat_dist.pmf(x)\n",
    "\n",
    "# Построение графика функции вероятности\n",
    "fig, ax = plt.subplots(figsize=(10, 6))\n",
    "ax.stem(x, y, label=f\"$Cat(p_d={pd_round})$\")\n",
    "ax.set_xticks(x)\n",
    "\n",
    "# Подпишем вероятности на графике\n",
    "ax.text(\n",
    "    x[x_i],\n",
    "    y[x_i],\n",
    "    f\"$P(x={x[x_i]})={y[x_i]:.2f}$\",\n",
    "    verticalalignment=\"bottom\",\n",
    "    horizontalalignment=\"left\",\n",
    "    fontsize=14,\n",
    ")\n",
    "\n",
    "# Добавление дополнительных элементов\n",
    "plt.title(f\"Функция вероятности\")\n",
    "plt.xlabel(\"$x_i$\")\n",
    "plt.ylabel(\"$P(x=x_i)$\")\n",
    "plt.grid(True)\n",
    "plt.legend()\n",
    "plt.show()"
   ]
  },
  {
   "cell_type": "markdown",
   "id": "aa1aee0c",
   "metadata": {},
   "source": [
    "**Ключевой момент:**\n",
    "* Вероятность, что дискретная случайная величина ($x$) примет конкретное значение ($a$) равна значению функции вероятности $f(x)$ для этой точки:\n",
    " $$ P(x=a)=f(x=a)$$"
   ]
  },
  {
   "cell_type": "markdown",
   "id": "167c9960",
   "metadata": {},
   "source": [
    "#### Генерация выборки из распределения"
   ]
  },
  {
   "cell_type": "code",
   "execution_count": 23,
   "id": "d4199ddf",
   "metadata": {},
   "outputs": [
    {
     "name": "stdout",
     "output_type": "stream",
     "text": [
      "[0 0 1 0 0 0 0 1 0 2]\n"
     ]
    }
   ],
   "source": [
    "sample_size = 10  # количество чисел для генерации\n",
    "\n",
    "# Генерируем последовательность из 8 элементов\n",
    "sequence = np.random.choice(values, p=pd, size=sample_size)\n",
    "print(sequence)"
   ]
  },
  {
   "cell_type": "markdown",
   "id": "3c7f2a76",
   "metadata": {},
   "source": [
    "### Распределение Бернулли $Bern(p)$"
   ]
  },
  {
   "cell_type": "markdown",
   "id": "a676e109",
   "metadata": {},
   "source": [
    "`Bernoulli distribution` - английский термин в статьях и фреймворках.\n",
    "\n",
    "В теории вероятностей **всегда** известен закон распределения и его параметры!\n",
    "\n",
    "Например, разработчики RPG-игры явно задают вероятности событий(см. рисунок ниже).\n",
    "\n",
    "Есть персонаж игры и он может открыть сундук с сокровищами, используя отмычку.\n",
    "\n",
    "При открытии сундука персонаж может:\n",
    "* открыть сундук \"успех\"\n",
    "* не открыть сундук \"неудача\"\n",
    "\n",
    "Используя распределение Бернулли мы можем определить с какой вероятностью сможет открыть сундук в игре. "
   ]
  },
  {
   "cell_type": "markdown",
   "id": "066f62b5",
   "metadata": {},
   "source": [
    "![images](images/bernulli_distribution.png)"
   ]
  },
  {
   "cell_type": "markdown",
   "id": "6f874513",
   "metadata": {},
   "source": [
    "Схема `эксперимента Бернулли`.\n",
    "\n",
    "Мы рассматриваем 1 эксперимент и вероятности происхождения исходов $$\\Omega=\\left\\lbrace 0, 1 \\right\\rbrace$$\n",
    "\n",
    "\n",
    "* `1` произошло `интересное` для нас событие. \n",
    "\n",
    "По терминологии схемы `эксперимента Бернулли` это событие называется `успех`.\n",
    "\n",
    "Вероятность этого события обозначим $p=P(x=1)$\n",
    "\n",
    "* `0` `интересного` для нас события не случилось.\n",
    "\n",
    "По терминологии схемы `эксперимента Бернулли` это событие называется `неудача`.\n",
    "\n",
    "Вероятность этого события обозначим $q=P(x=0)$ и $q=1-p$. \n",
    "\n",
    "Модель `распределения Бернулли` $Bern(p)$ имеет параметр:\n",
    "   * $p$ - который представляет собой вероятность наступления события-`успеха`.\n",
    "\n",
    "Моделируем вероятность открытия сундука с его помощью:\n",
    "* `1` - сундук открыт, `успех`.\n",
    "* `0` - сундук остался закрытым, `неудача`.\n",
    "\n",
    "> Зафиксировав значение параметра $Bern(p)$ распределения $$\\theta=\\left\\lbrace p=0.3\\right\\rbrace$$ мы получаем точный статистический закон описывающий вероятностный процесс генерации всех наших данных, - `функцию вероятностей` дискретного распределения.\n",
    "\n"
   ]
  },
  {
   "cell_type": "markdown",
   "id": "b223e6b5",
   "metadata": {},
   "source": [
    "#### Probability Mass Function"
   ]
  },
  {
   "cell_type": "markdown",
   "id": "f3400f33",
   "metadata": {},
   "source": [
    "`Функция вероятности (PMF)` для распределения Бернулли $Bern(p)$:\n",
    "\n",
    "$$Bern\\left(p \\mid x=a \\right)=\\left\\lbrace\n",
    "\\begin{array}{llllllllll}\n",
    "\tp   & ,x=1                                  \\\\\n",
    "\t1-p & ,x=0                                  \\\\\n",
    "\\end{array}\\right\\rbrace$$\n",
    "\n",
    "при $a \\in \\left\\lbrace0,1\\right\\rbrace$"
   ]
  },
  {
   "cell_type": "code",
   "execution_count": 5,
   "id": "ee88bfae",
   "metadata": {},
   "outputs": [
    {
     "data": {
      "image/png": "[encoded data removed]",
      "text/plain": [
       "<Figure size 1000x600 with 1 Axes>"
      ]
     },
     "metadata": {},
     "output_type": "display_data"
    }
   ],
   "source": [
    "# Параметры распределения\n",
    "p = 0.3\n",
    "\n",
    "# Создание объекта распределения Бернулли\n",
    "bernoulli_dist = stats.bernoulli(p=p)\n",
    "\n",
    "x = np.arange(0, 1 + 1)\n",
    "y = bernoulli_dist.pmf(x)\n",
    "\n",
    "# Построение графика функции вероятности\n",
    "fig, ax = plt.subplots(figsize=(10, 6))\n",
    "ax.stem(x, y, label=f\"$Bern(p={p})$\")\n",
    "ax.set_xticks(x)\n",
    "\n",
    "# Подпишем вероятности на графике\n",
    "ax.text(\n",
    "    0,\n",
    "    1 - p,\n",
    "    f\"$P(x={0})={1-p:.2f}$\",\n",
    "    verticalalignment=\"bottom\",\n",
    "    horizontalalignment=\"left\",\n",
    "    fontsize=14,\n",
    ")\n",
    "\n",
    "ax.text(\n",
    "    1,\n",
    "    p,\n",
    "    f\"$P(x={1})={p:.2f}$\",\n",
    "    verticalalignment=\"bottom\",\n",
    "    horizontalalignment=\"left\",\n",
    "    fontsize=14,\n",
    ")\n",
    "\n",
    "# Добавление дополнительных элементов\n",
    "plt.title(f\"Функция вероятности\")\n",
    "plt.xlabel(\"$x_i$\")\n",
    "plt.ylabel(\"$P(x=x_i)$\")\n",
    "plt.grid(True)\n",
    "plt.legend()\n",
    "plt.show()"
   ]
  },
  {
   "cell_type": "markdown",
   "id": "62701aba",
   "metadata": {},
   "source": [
    "#### Генерация выборки из распределения"
   ]
  },
  {
   "cell_type": "code",
   "execution_count": 6,
   "id": "daaaf059",
   "metadata": {},
   "outputs": [
    {
     "name": "stdout",
     "output_type": "stream",
     "text": [
      "[0 1 1 0 0 0 0 0 0 0]\n"
     ]
    }
   ],
   "source": [
    "# результат работы двух функций идентичен\n",
    "def bernoulli_np(p, n=1):\n",
    "    return np.random.choice([0, 1], size=n, p=[1 - p, p])\n",
    "\n",
    "\n",
    "def bernoulli_stats(p, n=1):\n",
    "    return stats.bernoulli(p).rvs(size=n)\n",
    "\n",
    "\n",
    "sample_size = 10  # Количество чисел для генерации\n",
    "\n",
    "bernoulli_numbers = bernoulli_stats(p, sample_size)\n",
    "print(bernoulli_numbers)"
   ]
  },
  {
   "cell_type": "markdown",
   "id": "f37723c1",
   "metadata": {},
   "source": [
    "## Теория вероятности резюме\n",
    "\n",
    "Все распределения из Теории вероятностей - простейшие модели генераторов чисел с набором параметров $\\theta$.\n",
    "\n",
    "Обозначение $P(\\theta \\mid x)$ говорит нам:\n",
    "* Распределение $P$\n",
    "* с набором параметров $\\theta$ каждый из которых равен опр. значению\n",
    "* для случайной величины, принявшей значение $x$\n",
    "* отдает нам:\n",
    "\n",
    "1. значение `функции вероятности (PMF)` для дискретной случ. величины\n",
    "\n",
    "или\n",
    "\n",
    "2. значение `функции плотности вероятности (PDF)` для непрерывной случ. величины\n",
    "\n",
    "Задавая эти параметры, мы получаем точный статистический закон по которому генерируются объекты.\n",
    "\n",
    "![image](images/parametric_models.jpg)"
   ]
  },
  {
   "cell_type": "markdown",
   "id": "4edd81ed",
   "metadata": {},
   "source": [
    "В теории вероятностей:\n",
    "\n",
    "* мы работаем с математическими моделями, которые позволяют моделировать поведение случайных величин.\n",
    "* мы всегда точно знаем какая модель случайной величины(распределение) генерирует данные и значения параметров $\\theta$ этой модели.\n",
    "* все сгенерированные значения подчиняются этому фундаментальному для них закону.\n",
    "\n",
    "Теория вероятности дала нам множество моделей с параметрами для генерации объектов.\n",
    "\n",
    "* Как же создать на их основе генеративную модель?"
   ]
  },
  {
   "cell_type": "markdown",
   "id": "a5117e16",
   "metadata": {},
   "source": [
    "# Математическая статистика"
   ]
  },
  {
   "cell_type": "markdown",
   "id": "57f26f87",
   "metadata": {},
   "source": [
    "## Постановка задачи Мат. статистики"
   ]
  },
  {
   "cell_type": "markdown",
   "id": "dc2c7569",
   "metadata": {},
   "source": [
    "Где то мы уже слышали раньше, что то похожее... (см. рисунок ниже).\n",
    "\n",
    "У нас есть некоторый источник порождающий данные $X^{data}$.\n",
    "\n",
    "$Х^{data}$ - это случайная величина.\n",
    "\n",
    "Случайная, т.е. есть Неопределенность. Мы не знаем какое значение будет получено следующим.\n",
    "\n",
    "Для нас Источник данных это \"черная коробочка\" или \"таинственный сундук\".\n",
    "\n",
    "Как он устроен внутри неизвестно.\n",
    "\n",
    "Мы наблюдали за Источником, и собрали некоторую выборку $X^{data}$ из экспериментальных данных \n",
    "\n",
    "$X^{data}=\\left\\lbrace X_1^{data}, X_2^{data},X_3^{data}, ...,\\right\\rbrace$ , размером $n$.\n",
    "\n",
    "![image](images/mathematical_statistics.png)\n",
    "\n",
    "Мы не знаем:\n",
    "\n",
    "* саму модель распределения\n",
    "* значения ее параметров $\\theta'$, с которыми оно генерирует выборку\n",
    "\n",
    "Специалист по Мат. статистике предполагает опр. модель(статистическое распределение) из Теории вероятностей.\n",
    "\n",
    "$P_{model}\\left(\\theta \\mid х \\right)$\n",
    "\n",
    "Нужно как то \"подобрать\" все параметры модели по экспериментальной выборке:\n",
    "\n",
    "$\\left\\lbrace X_1^{data}, X_2^{data}, X_3^{data}, ..., X_n^{data} \\right\\rbrace$\n",
    "\n",
    "В математической статистике существуют `методы оценки параметров`.\n",
    "\n",
    "Они позволяют подобрать `оптимальные` значения параметров:\n",
    "\n",
    "$\\theta=\\hat{\\theta}$\n",
    "\n",
    "для выбранной модели $P_{model}\\left(\\theta=\\hat{\\theta} \\mid х \\right)$ распределения на экспериментальной выборке $X^{data}$."
   ]
  },
  {
   "cell_type": "markdown",
   "id": "7b4ffe61",
   "metadata": {},
   "source": [
    "### i.i.d. - Independent and Identically Distributed"
   ]
  },
  {
   "cell_type": "markdown",
   "id": "e58f4bdd",
   "metadata": {},
   "source": [
    "Мы предполагаем, что все объекты выборки:\n",
    "\n",
    "* `independent` (`независимы`)\n",
    "\n",
    "Вероятность появления одного объекта выборки не влияет на вероятность появления другого объекта.\n",
    "См. примеры:\n",
    "1. Пример зависимых событий (извлечение шаров из урны безвозвратно)\n",
    "2. Пример независимых событий (извлечение шаров из урны с возвращением)\n",
    "\n",
    "* `identically distributed` (`одинаково распределены`)\n",
    "\n",
    "Все объекты выборки имеют одинаковое распределение вероятностей $P_{data}(\\theta \\mid x)$.\n",
    "\n",
    "Или по другому, - все объекты выборки были сгенерированы одной моделью $P_{data}(\\theta \\mid x)$\n",
    "\n",
    "Это фундаментальное предположение `i.i.d. - Independent and Identically Distributed` (`Независимы и одинаково распределены`) в математической статистике.\n",
    "\n",
    "Это предположение позволяет нам считать, что все объекты выборки были сгенерированы распределением:\n",
    "\n",
    "* $P_{data}(\\theta=\\theta' \\mid x)$\n",
    "* с набором параметров $\\theta=\\theta'$"
   ]
  },
  {
   "cell_type": "markdown",
   "id": "2e99d3c0",
   "metadata": {},
   "source": [
    "Мы не знаем:\n",
    "\n",
    "* саму модель распределения\n",
    "* значения ее параметров $\\theta'$, с которыми оно генерирует выборку\n",
    "\n",
    "Специалист по Мат. статистике предполагает опр. модель(статистическое распределение) из Теории вероятностей.\n",
    "\n",
    "$P_{model}\\left(\\theta \\mid х \\right)$\n",
    "\n",
    "Нужно как то \"подобрать\" все параметры модели по экспериментальной выборке:\n",
    "\n",
    "$\\left\\lbrace X_1^{data}, X_2^{data}, X_3^{data}, ..., X_n^{data} \\right\\rbrace$\n",
    "\n",
    "В математической статистике существуют `методы оценки параметров`.\n",
    "\n",
    "Они позволяют подобрать `оптимальные` значения параметров:\n",
    "\n",
    "$\\theta=\\hat{\\theta}$\n",
    "\n",
    "для выбранной модели $P_{model}\\left(\\theta=\\hat{\\theta} \\mid х \\right)$ распределения на экспериментальной выборке $X^{data}$.\n",
    "\n",
    "\n"
   ]
  },
  {
   "cell_type": "markdown",
   "id": "4df0a449",
   "metadata": {},
   "source": [
    "### Пример зависимых событий (извлечение шаров из урны безвозвратно)"
   ]
  },
  {
   "cell_type": "markdown",
   "id": "fe75b668",
   "metadata": {},
   "source": [
    "У нас есть урна с 4-мя шарами:\n",
    "* 2 `синих`\n",
    "* 2 `красных`\n",
    "\n",
    "Мы каждый раз достаем из урны 1 шар и не возвращаем его назад.\n",
    "\n",
    "* Какая это модель статистического распределения и каковы ее параметры $\\theta$?\n",
    "\n",
    "Мы хотим извлечь первый шар из урны(объект выборки 1):\n",
    "\n",
    "* $P(красный)=\\frac{2}{4}=\\frac{1}{2}$\n",
    "* $P(синий)=\\frac{2}{4}=\\frac{1}{2}$\n",
    "* $P(красный)=P(синий)$\n",
    "\n",
    "Допустим мы достали из урны `красный` шар и не вернули его обратно.\n",
    "\n",
    "Теперь мы хотим извлечь второй шар из урны(объект выборки 2).\n",
    "\n",
    "Теперь у нас урна с 3-мя шарами:\n",
    "* 2 синих\n",
    "* 1 красных\n",
    "\n",
    "Т.е. после появления `красного` шара в нашей выборке, последующие вероятности появления шаров изменились:\n",
    "\n",
    "* $P(красный)=\\frac{1}{3}$\n",
    "* $P(синий)=\\frac{2}{3}$\n",
    "* $P(красный) \\ne P(синий)$"
   ]
  },
  {
   "cell_type": "markdown",
   "id": "a9d8b456",
   "metadata": {},
   "source": [
    "### Пример независимых событий (извлечение шаров из урны с возвращением)"
   ]
  },
  {
   "cell_type": "markdown",
   "id": "075068b8",
   "metadata": {},
   "source": [
    "У нас есть урна с 4-мя шарами:\n",
    "* 2 `синих`\n",
    "* 2 `красных`\n",
    "\n",
    "Мы каждый раз достаем из урны 1 шар и возвращаем его назад.\n",
    "\n",
    "* Какая это модель статистического распределения и каковы ее параметры $\\theta$?\n",
    "\n",
    "Мы хотим извлечь первый шар из урны(объект выборки 1):\n",
    "\n",
    "* $P(красный)=\\frac{2}{4}=\\frac{1}{2}$\n",
    "* $P(синий)=\\frac{2}{4}=\\frac{1}{2}$\n",
    "* $P(красный)=P(синий)$\n",
    "\n",
    "Допустим мы достали из урны `красный` шар и вернули его обратно.\n",
    "\n",
    "Теперь мы хотим извлечь второй шар из урны(объект выборки 2).\n",
    "\n",
    "Исходные данные не изменились, - у нас все так же урна с 4-мя шарами:\n",
    "* 2 синих\n",
    "* 2 красных\n",
    "\n",
    "После появления `красного` шара в нашей выборке, последующие вероятности появления шаров не изменились:\n",
    "\n",
    "* $P(красный)=\\frac{2}{4}=\\frac{1}{2}$\n",
    "* $P(синий)=\\frac{2}{4}=\\frac{1}{2}$\n",
    "* $P(красный)=P(синий)$"
   ]
  },
  {
   "cell_type": "markdown",
   "id": "0d5bdd31",
   "metadata": {},
   "source": [
    "### Связь теории вероятностей и мат. статистики"
   ]
  },
  {
   "cell_type": "markdown",
   "id": "39c14903",
   "metadata": {},
   "source": [
    "Важный момент:\n",
    "\n",
    "- `Теория вероятностей` предоставляет `модели распределений` для описания случайных величин, а `Математическая статистика` использует эти `модели распределений` для описания экспериментальных данных.\n",
    "\n",
    "Проводя аналогию с `Машинным обучением`, можно сказать, что `мат. статистка` позволяет \"обучать\" параметры выбранных моделей из `Теории вероятностей` на экспериментальной выборке."
   ]
  },
  {
   "cell_type": "markdown",
   "id": "8250a3c6",
   "metadata": {},
   "source": [
    "## Два подхода мат. статистики"
   ]
  },
  {
   "cell_type": "markdown",
   "id": "8c6f8720",
   "metadata": {},
   "source": [
    "**Вопрос:** Так какие методы можно использовать для подбора параметров статистической модели?\n",
    "\n",
    "**Ответ:** Зависит от того как смотреть на случайность.\n",
    "\n",
    "Есть два разных подхода к восприятию случайности и они приводят к двум разным разделам мат. статистики:\n",
    "* Частотная мат. статистика `Frequentist statistics` Рональд Фишер (Ronald Aylmer Fisher)\n",
    "* Байесовские методы `Bayesian statistics` Томас Байес (Thomas Bayes) и Пьер-Симон Лаплас (Pierre-Simon Laplace)\n",
    "\n",
    "![image](images/frequentist_and_byesians.png)"
   ]
  },
  {
   "cell_type": "markdown",
   "id": "dd550ad0",
   "metadata": {},
   "source": [
    "### Сравнительная таблица подходов от Дмитрия Ветрова"
   ]
  },
  {
   "cell_type": "markdown",
   "id": "22e2a84a",
   "metadata": {},
   "source": [
    "|                                                                        | Frequentist                                                                                                                                              | Bayesian                                                                                                                                                                                                                        |\n",
    "| ---------------------------------------------------------------------- | -------------------------------------------------------------------------------------------------------------------------------------------------------- | ------------------------------------------------------------------------------------------------------------------------------------------------------------------------------------------------------------------------------- |\n",
    "| интерпретация<br>случайности                                           | **Объективная неопределённость**<br>есть случайные процессы<br>их принципиально нельзя<br>предсказать.<br>Примеры:<br>* квантовая физика                 | **Субъективное незнание**<br>все определено, но у нас нет <br>всех данных для однозначного<br>прогнозирования.<br>Случайность, как мера нашего незнания.<br>(нет нужных данных)<br>Примеры:<br>* бросок монеты, приход автобуса |\n",
    "| Величины                                                               | Случайные и детерминированные.<br>Случайная величина:<br>- случ. величина (опр. распределением)<br>Параметры модели:<br>- детерминированы(заданы числом) | Все можно интерпретировать<br>как случайную величину.<br>Случайная величина:<br>- случ. величина(опр. распределением)<br>Параметры модели:<br>- случ. величина(опр. распределением)                                             |\n",
    "| Метод<br>оценки<br>параметров<br>модели <br>(Вывод)<br>(Inference)<br> | Точечные оценки:<br>(оптимальные значения параметров)<br>- Метод максимального правдоподобия(MLE)<br>- Метод моментов<br>                                | - Байесовский вывод:<br>(Апостериорное распределение)                                                                                                                                                                           |\n",
    "| Применимость                                                           | n >> d<br>n - размер выборки<br>d - размерность параметров                                                                                               | ∀n<br>n - размер выборки                                                                                                                                                                                                        |\n",
    "| Совместимость                                                          | Изначально работает в области<br>n >> d                                                                                                                  | при n → ∞<br>переходит в MLE                                                                                                                                                                                                    |"
   ]
  },
  {
   "cell_type": "markdown",
   "id": "cac334d0",
   "metadata": {},
   "source": [
    "Рекомендую посмотреть лекции (по желанию) сравнивающие два этих подхода:\n",
    "* Лекция от Дмитрия Ветрова ([ссылка](https://youtu.be/Ejsr3S79gcQ?si=xRYtdR4coVRfauk3&t=1020))\n",
    "* Лекция от Филиппа Ульянкина ([ссылка](https://youtu.be/3ejA7UYy6Jk?si=Wni6LVZhytf13UvJ))\n",
    "\n",
    "`Математическая статистика` и ее\n",
    "* `Частотный`  и\n",
    "* `Байесовский`\n",
    "\n",
    "подходы очень интересны, но это большие темы, которые даже обзорно затруднительно полностью рассмотреть в рамках одной лекции.\n",
    "\n",
    "Мы остановимся только на\n",
    "* Методе Максимального Правдоподобия (Maximum likelihood estimation, сокр. `MLE`)\n",
    "\n",
    "Более подробно про `Математическую статистику` можно узнать из `великолепных бесплатных курсов`:\n",
    "* Дмитрий Ветров \"Байесовские методы в машинном обучении\" ([ссылка YouTube](https://youtube.com/playlist?list=PLEqoHzpnmTfCiJpMPccTWXD9DB4ERQkyw), [описание курса](http://www.machinelearning.ru/wiki/index.php?title=Бммо)).\n",
    "* Ульянкин Филипп и Демешев Борис \"Прикладная статистика\" ([ссылка YouTube](https://www.youtube.com/@Прикладнаястатистика/playlists), [ссылка github-репо курса](https://github.com/FUlyankin/matstat-AB))\n",
    "\n",
    "Это доп. материал для интересующихся, для прохождения нашего курса в обязательном порядке он не требуется.                                                   "
   ]
  },
  {
   "cell_type": "markdown",
   "id": "cd045db0",
   "metadata": {},
   "source": [
    "## Дискретная случайная величина. Задача"
   ]
  },
  {
   "cell_type": "markdown",
   "id": "d23516f4",
   "metadata": {},
   "source": [
    "### Математическая статистика. Частотный подход"
   ]
  },
  {
   "cell_type": "markdown",
   "id": "4a35a849",
   "metadata": {},
   "source": [
    "`Математическая статистика` работает с обратной для `теории вероятностей` ситуацией.\n",
    "\n",
    "* у нас есть экспериментальная выборка данных $\\left\\lbrace x_1, x_2, x_3, ..., x_n\\right\\rbrace$:"
   ]
  },
  {
   "cell_type": "markdown",
   "id": "a3a900d2",
   "metadata": {},
   "source": [
    "![image](images/special_offer.png)"
   ]
  },
  {
   "cell_type": "markdown",
   "id": "14382a8b",
   "metadata": {},
   "source": [
    "Например, у нас есть свой интернет магазин.\n",
    "\n",
    "есть клиенты участвующие в акции нашей компании:\n",
    "* событие 0 - не участвуют\n",
    "* событие 1 - участвуют\n",
    "\n",
    "Экспериментальная выборка:\n",
    "```\n",
    "[0 1 1 0 0 0 0 0]\n",
    "```\n",
    "\n",
    "Например, есть товары в подарок, которые можно выбрать по акции:\n",
    "* событие 1 - солнечные очки\n",
    "* событие 2 - массажер для спины (популярен у ит специалистов =) )\n",
    "* событие 3 - подписка на онлайн кинотеатр\n",
    "\n",
    "Экспериментальная выборка:\n",
    "```\n",
    "[1, 1, 2, 2, 3, 3, 3, 3]\n",
    "```\n",
    "\n",
    "**Условия:**\n",
    "* мы ничего не знаем о модели статистического распределения, которая генерирует экспериментальную выборку значений случайной величины $x$.\n",
    "* мы предполагаем что объекты нашей выборки `i.i.d. - Independent and Identically Distributed` (`Независимы и одинаково распределены`)\n",
    "\n",
    "Клиенты выбирают независимо друг от друга, никто никому не советует не подсказывает.\n",
    "\n",
    "Т.е. `мы предполагаем`, что существует некоторая модель статистического распределения\n",
    "\n",
    "$P_{data}(\\theta=\\theta' \\mid x)=?$\n",
    "\n",
    "с зафиксированными значениями параметров $\\theta=\\theta'$ согласно, которой сгенерированы наши данные.\n",
    "\n",
    "* Нужно выбрать модель(статистическое распределение) из Теории вероятностей, которое подходит для наших данных."
   ]
  },
  {
   "cell_type": "markdown",
   "id": "94ff98f2",
   "metadata": {},
   "source": [
    "**Для моделирования**\n",
    "* участия в акции мы выбрали, - $Bern(p)$\n",
    "* выбора подарка, - $Cat(p_d)$\n",
    "\n",
    "Нужно подобрать параметры:\n",
    "* $\\theta_{Bern}=\\left\\lbrace p=?\\right\\rbrace$\n",
    "* $\\theta_{Cat}=\\left\\lbrace p_d=?\\right\\rbrace$\n",
    "\n",
    "* Мы можем `подобрать` параметры $\\theta$, которые лучше всего описывают `имеющиеся на данный момент времени данные`.\n",
    "\n"
   ]
  },
  {
   "cell_type": "markdown",
   "id": "95f1332a",
   "metadata": {},
   "source": [
    "### Подбор наиболее правдоподобных параметров для распределения\n",
    "\n",
    "Моделируем участия в акции магазина.\n",
    "\n",
    "```\n",
    "[0 1 1 0 0 0 0 0]\n",
    "```\n",
    "\n",
    "и мы ничего не знаем о математической модели по которой они генерируются.\n",
    "\n",
    "* Мы предполагаем, что эти данные подчищаются распределению Бернулли $Bern(p)$.\n",
    "* Мы не знаем какой параметр $p$ у этого распределения"
   ]
  },
  {
   "cell_type": "markdown",
   "id": "50cf47ce",
   "metadata": {},
   "source": [
    "### Как оценить хорошо ли был выбран параметр?\n",
    "\n",
    "#### Опытно-экспериментальный подход\n",
    "\n",
    "**Проблема**:\n",
    "\n",
    "Два специалиста по мат. статистике предлагают 2 набора параметров для распределения Бернулли $Bern(p)$, описывающего наши данные:\n",
    "1. $\\theta_1=\\left\\lbrace p=0.2 \\right\\rbrace$\n",
    "2. $\\theta_2=\\left\\lbrace p=0.4 \\right\\rbrace$\n",
    "\n",
    "Как узнать какой из наборов описывает процесс генерации наших данные лучше?"
   ]
  },
  {
   "cell_type": "markdown",
   "id": "977fe018",
   "metadata": {},
   "source": [
    "#### Правдоподобие (Likelihood)\n",
    "\n",
    "> `Функция правдоподобия (Likelihood function)` это функция для оценки вероятности сгенерировать конкретное значение $x_i$ из нашей выборки выбранным распределением с такими то параметрами $\\theta'$.\n",
    "\n",
    "$L(\\theta')=f(\\theta' \\mid x_i)$\n",
    "\n",
    "* Ее часто называемая просто `Правдоподобие(Likelihood)`.\n",
    "\n",
    "Для $Bern(p)$:\n",
    "\n",
    "$$\\mathcal{L}\\left(\\theta=\\left\\lbrace p = 0.4 \\right\\rbrace\\left|x=a\\right|\\right)=f_{\\theta=\\left\\lbrace p = 0.4 \\right\\rbrace\\left.\\right.}\\left(x=a\\right)$$\n",
    "\n",
    "Или сокращенно:\n",
    "$${\\mathcal{L}}(\\theta\\mid x=a)=f_{\\theta}(x=a)=P_{\\theta}(x=a)$$\n",
    "\n",
    "> `Для дискретной` случайной величины значение `Правдоподобия(likelihood)` это вероятность $P_{\\theta}(x=a)$ сгенерировать $x=a$.\n",
    "\n",
    "> Для непрерывной случайной величины, `Правдоподобие(likelihood)`, это скорее некоторая мера оценки вероятности, определенная через `функцию плотности распределения`.\n",
    "\n",
    "Для распределения Бернулли значение `Правдоподобия(likelihood)` для значений легко определить из формулы:\n",
    "\n",
    "$${\\mathcal{L}}(\\theta\\mid x=a) = P_{\\theta}(x=a) = Bern\\left(p \\mid x=a \\right)=\\left\\lbrace\n",
    "\\begin{array}{llllllllll}\n",
    "\tp   & ,x=1                                  \\\\\n",
    "\t1-p & ,x=0                                  \\\\\n",
    "\\end{array}\\right\\rbrace$$\n",
    "\n",
    "при $a \\in \\left\\lbrace0,1\\right\\rbrace$\n",
    "\n",
    "В нашем случае:\n",
    "* $\\mathcal{L}\\left(\\theta=\\left\\lbrace p = 0.4 \\right\\rbrace\\left|x=0\\right|\\right)=q=1-p=1-0.4=0.6$\n",
    "* $\\mathcal{L}\\left(\\theta=\\left\\lbrace p = 0.4 \\right\\rbrace\\left|x=1\\right|\\right)=p=0.4$"
   ]
  },
  {
   "cell_type": "markdown",
   "id": "a482ebd6",
   "metadata": {},
   "source": [
    "### Подбор наиболее правдоподобного параметра для распределения Бернулли\n",
    "\n",
    "> `Правдоподобие для выборки` оценивает вероятность получить экспериментальные данные $\\left\\lbrace x_1,x_2,x_3,x_4,...,x_n \\right\\rbrace$ с помощью выбранного нами типа распределения с фиксированными значениями параметров для этого распределения $\\theta$:\n",
    "\n",
    "$$\\mathcal{L}(\\theta\\mid x_1,x_2,x_3,x_4,...,x_n)=f_{\\theta}(x_1,x_2,x_3,x_4,...,x_n)$$\n",
    "\n",
    "где для дискретной случайной величины $f_{\\theta}(x=x_1)$ это `функция вероятности` $P_{\\theta}(x=x_1)$.\n",
    "\n",
    "Учитывая, что каждое значение из наших данных это отдельное наблюдение, которое никак не зависит от предыдущих, можно рассмотреть все как произведение вероятностей независимых событий:\n",
    "\n",
    "$$\\mathcal{L}(\\theta\\mid x_1,x_2,x_3,x_4,...,x_n) = f_{\\theta}(x_1,x_2,x_3,x_4,...,x_n) = f_{\\theta}(x_1) \\cdot f_{\\theta}(x_2) \\cdot f_{\\theta}(x_1) \\cdot ... \\cdot f_{\\theta}(x_n) = \\underset{i=1}{\\overset{n}{\\prod}}f_{\\theta}(x_i) $$\n",
    "\n",
    "$$\\mathcal{L}(\\theta\\mid x_1,x_2,x_3,x_4,...,x_n) = \\underset{i=1}{\\overset{n}{\\prod}}f_{\\theta}(x_i)= \\underset{i=1}{\\overset{n}{\\prod}}P_{\\theta}(x_i) $$\n",
    "\n",
    "Чем выше значение `Правдоподобия для выборки` полученное для выбранного типа распределения $Bern(p)$ и набора его параметров $\\theta_i$ для наших экспериментальных данных $\\left\\lbrace x_1,x_2,x_3,x_4,...,x_n \\right\\rbrace$, тем вероятнее, что данные получены именно такой моделью.\n",
    "\n",
    "Если \n",
    "\n",
    "$$\\mathcal{L}(\\theta_1\\mid x_1,x_2,x_3,x_4,...,x_n) > \\mathcal{L}(\\theta_2\\mid x_1,x_2,x_3,x_4,...,x_n)$$\n",
    "\n",
    "то говорят, что закон генерации $Bern(\\theta_1)$, `более правдоподобен`, чем $Bern(\\theta_2)$."
   ]
  },
  {
   "cell_type": "code",
   "execution_count": 24,
   "id": "ccb03464",
   "metadata": {},
   "outputs": [
    {
     "name": "stdout",
     "output_type": "stream",
     "text": [
      "Правдоподобие, что выборка получена из распределения с параметрами от специалиста 1 0.010485759999999995\n",
      "Правдоподобие, что выборка получена из распределения с параметрами от специалиста 2 0.00746496\n",
      "L1_for_samples < L2_for_samples ?\n",
      "False\n"
     ]
    }
   ],
   "source": [
    "# экспериментальные данные\n",
    "x = [0, 1, 1, 0, 0, 0, 0, 0]\n",
    "\n",
    "# параметры для распределения предложенные специалистами 1 и 2\n",
    "theta_1 = {\"p\": 0.2}\n",
    "theta_2 = {\"p\": 0.4}\n",
    "\n",
    "\n",
    "# Правдоподобия для распределения Бернулли от специалиста 1\n",
    "L1 = stats.bernoulli.pmf(x, p=theta_1[\"p\"])\n",
    "L1_for_samples = np.prod(L1)\n",
    "\n",
    "# Правдоподобия для распределения Бернулли от специалиста 2\n",
    "L2 = stats.bernoulli.pmf(x, p=theta_2[\"p\"])\n",
    "L2_for_samples = np.prod(L2)\n",
    "\n",
    "print(f\"Правдоподобие, что выборка получена из распределения с параметрами от специалиста 1 {L1_for_samples}\")\n",
    "print(f\"Правдоподобие, что выборка получена из распределения с параметрами от специалиста 2 {L2_for_samples}\")\n",
    "print(\"L1_for_samples < L2_for_samples ?\")\n",
    "print(L1_for_samples < L2_for_samples)"
   ]
  },
  {
   "cell_type": "markdown",
   "id": "f6816fda",
   "metadata": {},
   "source": [
    "Видим, что $(\\theta_2 \\mid x)$ от специалиста 2, выглядит `более правдоподобным`, для описания закона по которым генерируются наши экспериментальные данные =)"
   ]
  },
  {
   "cell_type": "markdown",
   "id": "fa90566c",
   "metadata": {},
   "source": [
    "#### Вероятность(Probability) Vs Правдоподобие(Likelihood)\n",
    "\n",
    "P.S. Как отмечает `Josh Starmer (StatQuest)` в своем видео ([ссылка](https://youtu.be/O2L2Uv9pdDA?si=fPhavj5BcTLR-S3O)) об алгоритме `Multinomial Naive Bayes Classifier` многие люди ошибочно называют в данном алгоритме `Правдоподобие(Likelihood)` `Вероятностью(Probability)`.\n",
    "\n",
    "А мы видим полную картину и ии отличия:"
   ]
  },
  {
   "cell_type": "markdown",
   "id": "07f7bfb0",
   "metadata": {},
   "source": [
    "\n",
    "\n",
    "Отметим важное отличие между `Вероятностью(Probability)` и `Правдоподобием(likelihood)` для дискретной случайной величины.\n",
    "\n",
    "**Теория вероятности и Вероятность:**\n",
    "* Известен фундаментальный закон генерации данных (тип распределения и его параметры $\\theta$). Все данные подчиняются ему. \n",
    "* Вероятность оценивает вероятность появления значения согласно этому фундаментальному закону.\n",
    "* Вероятность $P\\left(x=a\\right)$ оценивается для конкретного значения $x=a$, при этом $a$ принимает одно из возможных значений элементов пространства элементарных событий $a \\in  \\Omega = \\left\\lbrace e_1, e_2, ... e_k \\right\\rbrace$.\n",
    "* Значение вероятности всегда $P \\in [0, 1])$\n",
    "* Вероятность не зависит от экспериментальных данных, ведь данные всегда удовлетворяют фундаментальному закону.\n",
    "\n",
    "**Мат. статистика и правдоподобие:**\n",
    "* Не известен фундаментальный закон генерации данных.\n",
    "* Мы сами выбираем тип распределения, которым попытаемся описать механизм генерации имеющихся на данный момент времени данных.\n",
    "* Мы сами выбираем параметры для выбранного распределения $\\theta$.\n",
    "* Правдоподобие оценивает вероятность генерации экспериментального значения согласно выбранному распределению и выбранным для него параметрам: \n",
    "  ${\\mathcal{L}}(\\theta\\mid x=a)=P_{\\theta}(x=a)$. Правдоподобие ${\\mathcal{L}}(\\theta\\mid x=a)$ это действительно дискретная вероятность $P_{\\theta}(x=a)$ сгенерировать $x=a$.\n",
    "* Для дискретной случайной величины значение правдоподобия всегда $\\mathcal{L} \\in [0, 1])$.\n",
    "* Правдоподобие зависит от экспериментальных данных, и меняется при получении новых."
   ]
  },
  {
   "cell_type": "markdown",
   "id": "78ab5124",
   "metadata": {},
   "source": [
    "#### Метод Оценки максимального правдоподобия (Maximum likelihood estimation [сокр. MLE]\n",
    "\n",
    "**Проблема:**\n",
    "Поскольку параметры распределения могут принимать бесконечное число различных значений, у нас будет бесконечное множество вариантов различных параметров, и соответствующих им распределений.\n",
    "\n",
    "`А можно ли сразу найти самые лучшие параметры для выбранного типа распределения, которое лучше всего подойдут в качестве модели-генератора наших данных?`\n",
    "\n",
    "> `Оценка максимального правдоподобия (Maximum likelihood estimation [MLE])` состоит в подборе такого набора параметров $\\widehat{\\theta}^{MLE}$ для выбранного распределения при котором `Правдоподобие для выборки` на наших данных достигнет максимума.\n",
    "\n",
    "$$ {\\widehat{\\theta}}^{M L E}=\\underset{\\theta}{\\mathrm{argmax}}\\,\\mathrm{L}(\\theta\\mid x_{1},\\ldots,x_{n})=\\underset{\\theta}{\\mathrm{argmax}}\\,\\underset{i=1}{\\overset{n}{\\prod}}f_{\\theta}(x_i)$$\n",
    "\n",
    "Метод `Оценки максимального правдоподобия (MLE)` позволяет работать с различными распределениями как `для непрерывных` так, и `для дискретных` случайных величин."
   ]
  },
  {
   "cell_type": "markdown",
   "id": "60e48567",
   "metadata": {},
   "source": [
    "Нам нужно максимизировать выражение правдоподобия для выборки.\n",
    "\n",
    "Для этого нам нужно найти его экстремум, доказав, что это максимум.\n",
    "\n",
    "Полный список шагов:\n",
    "1. Найти производные функции по всем параметрам модели $\\theta$.\n",
    "2. Приравнять их к нулю и решить уравнения относительно параметров.\n",
    "\n",
    "Решения этих уравнений ${\\widehat{\\theta}}^{M L E}$ и будут оптимальными значениями параметров распределения.\n",
    "\n",
    "Так мы найдем параметры соответствующие особым точкам, но надо бы еще убедится, что это максимум.\n",
    "\n",
    "3. Берем вторые производные и если они меньше нуля при подстановке наших параметров $\\widehat{\\theta}^{M L E}$, то мы нашли максимум.\n",
    "\n",
    "На практике доказывается, что наша функция будет унимодальна - есть только 1 максимум.\n",
    "\n",
    "И выполняют только шаги 1 и 2.\n",
    "\n",
    "Попробуем найти производную по всем параметрам модели:\n",
    "\n",
    "$$ {\\widehat{\\theta}}^{M L E}=\\underset{\\theta}{\\mathrm{argmax}}\\,\\mathrm{L}(\\theta\\mid x_{1},\\ldots,x_{n})=\\underset{\\theta}{\\mathrm{argmax}}\\,\\underset{i=1}{\\overset{n}{\\prod}}f_{\\theta}(x_i)$$\n",
    "\n",
    "Производная произведения:\n",
    "\n",
    "* для двух функций: $\\left(f g\\right)^{\\prime}=f^{\\prime}g+f g^{\\prime}$\n",
    "* для 3 функций: $(u\\cdot v\\cdot w)^{\\prime}=u^{\\prime}\\cdot v\\cdot w+u\\cdot v^{\\prime}\\cdot w+u\\cdot\n",
    "v\\cdot w^{\\prime}$\n",
    "\n",
    "Метод MLE применяется при $n >> d$:\n",
    "* $d$ - количество параметров которые мы хотим оценить.\n",
    "* $n$ - размер выборки (датасета)\n",
    "\n",
    "Для оценки 10 параметров, нужен размер выборки на 1000 объектов минимум.\n",
    "\n",
    "Произведение 1000 функций, и от этого производную =)\n",
    "\n",
    "А в датасетах бывает и $10^6$ образцов и как нам считать такие производные?"
   ]
  },
  {
   "cell_type": "markdown",
   "metadata": {},
   "source": [
    "##### Логарифм правдоподобия и его преимущества\n",
    "\n",
    "`Логарифм правдоподобия` это $Log(L(\\theta) \\mid x)$\n",
    "\n",
    "1. **Инвариантность к монотонным преобразованиям:**\n",
    "\n",
    "Логарифм — монотонная функция, поэтому максимум логарифма правдоподобия соответствует максимуму самой функции правдоподобия. \n",
    "\n",
    "Это означает, что оптимизация логарифма правдоподобия даст те же оценки параметров, что и оптимизация исходной функции правдоподобия.\n",
    "\n",
    "2. **Логарифм меняет произведение на сумму**\n",
    "\n",
    "Брать производную от суммы функций гораздо проще, чем от произведения функций:\n",
    "\n",
    "Производная от суммы функций:\n",
    "\n",
    "* для 2 функций: $(f+g)^{\\prime}=f^{\\prime}+g^{\\prime}$\n",
    "* для 3 функций: $(f+g+w)^{\\prime}=f^{\\prime}+g^{\\prime}+w^{\\prime}$\n",
    "* для n функций: $\\left({\\sum}_{i=1}^nf_i(x)\\right)^{\\prime}={\\sum}_{i=1}^nf_i(x)^{\\prime}$"
   ]
  },
  {
   "cell_type": "markdown",
   "id": "d68a10f4",
   "metadata": {},
   "source": [
    "\n",
    "При использовании `логарифма правдоподобия`, выражение задачи для $\\widehat{\\theta}^{MLE}$ преобразуется в вид:\n",
    "\n",
    "$$\\log L\\left(\\theta\\right)=\\log\\left(\\prod_{i=1}^nf(\\theta \\mid x_i)\\right)=\\sum_{i=1}^n\\log(f(\\theta \\mid x_i))$$\n",
    "\n",
    "Задача оптимизации по максимизации `логарифма правдоподобия` через параметр $\\theta$ сведется к поиску экстремума:\n",
    "\n",
    "$${\\frac{\\partial log_{}{L}}{\\partial\\,\\theta}}=\\sum_{i=1}^n{\\frac{\\partial log_{}f(x_{i}\\mid\\theta)}{\\partial\\,\\theta}}=0$$\n",
    "\n",
    "Решив это уравнение получим оптимальный набор параметров распределения ${\\widehat{\\theta}}^{MLE}$ для выбранного нами распределения.\n",
    "\n",
    "Это распределение будет `наиболее правдоподобным` в качестве генератора имеющейся у нас выборки $\\left\\lbrace x_1,x_2,x_3,x_4,...,x_n \\right\\rbrace$.\n",
    "\n",
    "Решение этого уравнения будет различным для различных распределений описывающих нашу случайную величину."
   ]
  },
  {
   "cell_type": "markdown",
   "id": "fb23b59a",
   "metadata": {},
   "source": [
    "3. Логарифм обеспечивает точность вычислений\n",
    "\n",
    "Предположим, что нам удается дать ЭВМ задачу на вычисление дифференцирования произведения функций.\n",
    "\n",
    "Сможем ли мы ее посчитать?"
   ]
  },
  {
   "cell_type": "code",
   "execution_count": 25,
   "id": "3c2f4f59",
   "metadata": {},
   "outputs": [
    {
     "data": {
      "text/plain": [
       "sys.float_info(max=1.7976931348623157e+308, max_exp=1024, max_10_exp=308, min=2.2250738585072014e-308, min_exp=-1021, min_10_exp=-307, dig=15, mant_dig=53, epsilon=2.220446049250313e-16, radix=2, rounds=1)"
      ]
     },
     "execution_count": 25,
     "metadata": {},
     "output_type": "execute_result"
    }
   ],
   "source": [
    "# посмотрим точность для типа float в python\n",
    "import sys\n",
    "\n",
    "sys.float_info"
   ]
  },
  {
   "cell_type": "markdown",
   "id": "339e0a11",
   "metadata": {},
   "source": [
    "Наименьшее значение - sys.float_info.min (2.2250788585072014e-308)\n",
    "\n",
    "Наибольшее значение - sys.float_info.max (1.7976931348623157e+308)\n",
    "\n",
    "Подробности в документации [ссылка](https://translated.turbopages.org/proxy_u/en-ru.ru.0aad166c-66e14549-6e642a45-74722d776562/docs.python.org/library/sys.html#sys.float_info).\n",
    "\n",
    "При достаточно большом количестве перемножений плотностей вероятности мы можем выйти за данный предел точности.\n",
    "\n",
    "Предположительно это может случится при расчете вероятности появления картинки персонажа с опр. стилем. Там около 500 пикселей, на каждый из RGB-каналов изображения, итого 1500."
   ]
  },
  {
   "cell_type": "code",
   "execution_count": 26,
   "id": "acc5011d",
   "metadata": {},
   "outputs": [
    {
     "name": "stdout",
     "output_type": "stream",
     "text": [
      "1e-308\n",
      "0.0\n",
      "0.0\n"
     ]
    }
   ],
   "source": [
    "print(10**(-308)) # все еще маленькое значение\n",
    "print(10**(-350)) # наше маленькое значение превратилось в 0\n",
    "\n",
    "# ситуация, которой мы опасаемся перемножение большого числа маленьких\n",
    "# плотностей вероятностей превращается в ноль из за ограничений точности\n",
    "p = 10**(-308)\n",
    "print(p * p * p)"
   ]
  },
  {
   "cell_type": "markdown",
   "id": "01b72e7e",
   "metadata": {},
   "source": [
    "Использование логарифмов существенно повышает точность вычислений:"
   ]
  },
  {
   "cell_type": "code",
   "execution_count": 27,
   "id": "3c83fca1",
   "metadata": {},
   "outputs": [
    {
     "name": "stdout",
     "output_type": "stream",
     "text": [
      "-308.0\n",
      "-29218112.0\n"
     ]
    }
   ],
   "source": [
    "# маленькая вероятность превратилась в небольшое число\n",
    "print(np.log10(p))\n",
    "\n",
    "# использование логарифма\n",
    "p = np.log10(p)\n",
    "print(p * p * p) "
   ]
  },
  {
   "cell_type": "markdown",
   "id": "d780ddb0",
   "metadata": {},
   "source": [
    "Точность вычислений повысилась до $10^{-29218112}$ при ограничении на $10^{-308}$ для float в Python.\n",
    "\n",
    "Можно использовать логарифм любого основания, при этом $log_{10}$ интуитивно позволяет сразу представить себе порядок величины.\n",
    "\n",
    "$$log_{10}(x)=2, x=100$$\n",
    "$$log_{10}(x)=3, x=1000$$\n",
    "$$log_{10}(x)=2.5, x \\in [100,1000]$$\n",
    "\n",
    "основание 10 удобно =)"
   ]
  },
  {
   "cell_type": "markdown",
   "id": "3703c47f",
   "metadata": {},
   "source": [
    "#### MLE для распределения Бернулли"
   ]
  },
  {
   "cell_type": "markdown",
   "id": "bf3edd77",
   "metadata": {},
   "source": [
    "Мы берем формулу для распределения Бернулли:\n",
    "$$Bern\\left(p \\mid x=a \\right)=\\left\\lbrace\n",
    "\\begin{array}{llllllllll}\n",
    "\tp   & ,x=1                                  \\\\\n",
    "\t1-p & ,x=0                                  \\\\\n",
    "\\end{array}\\right\\rbrace$$\n",
    "\n",
    "при $a \\in \\left\\lbrace0,1\\right\\rbrace$\n",
    "\n",
    "Подставляем в уравнение для MLE, логарифмируем, берем производную и получаем такое значения для параметра $\\theta=\\left\\lbrace p\\right\\rbrace$, дающее максимальное правдоподобие на экспериментальной выборке $\\left\\lbrace x_1,x_2,x_3,x_4,...,x_n \\right\\rbrace$:\n",
    "\n",
    "$$\\widehat p^{MLE}=\\overline{x}={\\frac{1}{n}} \\underset{i=1}{\\overset{n}{\\sum}}x_{i}$$\n",
    "\n",
    "P.S. Подробный вывод показан в видео([ссылка](https://youtu.be/-NDFLb4bq60?si=Ff1dG91NWdJpc6Tx)) у Филлипа Ульянкина.\n",
    "\n",
    "Интересно заметить, что поскольку `Пространство элементарных событий` для распределения Бернулли:\n",
    "$$\\Omega=\\left\\lbrace 0, 1 \\right\\rbrace$$\n",
    "\n",
    "То сумма по всем элементам исключит из нее все элементы $x==0$. При этом каждая $1$-ца даст нам количество элементов $x==1$, т.е. количество раз когда 1-ца встретилась в нашей выборке, - $n_{1}$. Тогда:\n",
    "\n",
    "$$\\widehat p^{MLE}=\\overline{x}={\\frac{1}{n}} \\underset{i=1}{\\overset{n}{\\sum}}x_{i}=\\frac{n_{1}}{n}=\\nu_1$$\n",
    "\n",
    "Т.е. вероятность появления события \"успех\" сводится к относительной частоте появления события \"успех\" в наших экспериментальных данных.\n",
    "\n",
    "$P(x=1)=p=\\overline{x}=\\frac{n_{1}}{n}=\\nu_1$\n",
    "\n"
   ]
  },
  {
   "cell_type": "markdown",
   "id": "702c00b2",
   "metadata": {},
   "source": [
    "#### MLE для Категориального распределения"
   ]
  },
  {
   "cell_type": "markdown",
   "id": "eb1f1df9",
   "metadata": {},
   "source": [
    "Мы берем формулу для Категориального распределения:\n",
    "$$f\\left(x_i\\right)=Cat\\left(p_d \\mid x=x_i \\right)=P\\left(x=x_i\\right)=p_i$$\n",
    "\n",
    "при $x_i \\in \\Omega=\\left\\lbrace e_1, e_2, e_3, ..., e_d \\right\\rbrace$\n",
    "\n",
    "Подставляем в уравнение для MLE, логарифмируем. Найти максимум `правдоподобия` можно с помощью метода множителей Лагранжа.\n",
    "\n",
    "В итоге получаем такое значения для параметра $\\theta=\\left\\lbrace p_d \\right\\rbrace$, дающее максимальное правдоподобие на экспериментальной выборке $\\left\\lbrace x_1, x_2, x_3,..., x_n \\right\\rbrace$:\n",
    "\n",
    "$$\\widehat p_i^{MLE}=\\frac{n_{i}}{N}=\\nu_i$$\n",
    "\n",
    "P.S. Подробный вывод показан в видео([ссылка](https://youtu.be/nLzQINlbSPg?si=htaHf746846JRuAD)).\n",
    "\n",
    "Т.е. вероятность появления события $x_i \\in \\Omega$ в единичном `эксперименте c d-исходами` при исследовании случайной величины $x$ сводится к относительной частоте появления этого события в наших экспериментальных данных.\n",
    "\n",
    "$p_i=P(x=x_i)=\\frac{n_i}{N}=\\nu_i$\n",
    "\n",
    "Пример оценки:\n",
    "\n",
    "$p_0=P(x=0)=\\frac{4}{8}=0.5$\n",
    "\n",
    "Для $p_0=0.5$ результат сходится с $p_0=0.5$ с которыми мы генерировали исходные данные.а"
   ]
  },
  {
   "cell_type": "markdown",
   "id": "e8a50408",
   "metadata": {},
   "source": [
    "#### MLE для родственный распределений"
   ]
  },
  {
   "cell_type": "markdown",
   "id": "6f18d53f",
   "metadata": {},
   "source": [
    "* `Распределение Бернулли` - моделирует исход из двух возможных результатов эксперимента: `успех` и `не успех`.\n",
    "* `Категориальное распределение` обобщает `распределение Бернулли` на несколько категорий, т.е. в эксперименте рассматривается d-возможных исходов события, а не только 2.\n",
    "* `Биномиальное распределение` обобщает `распределение Бернулли` на серию экспериментов, т.е. нас интересует число \"событий-успехов\" в серии длинной из n-экспериментов.\n",
    "* `Мультиномиальное/Полиномиальное` обобщает `Категориальное распределение` на серию экспериментов, т.е. нас интересует число \"событий-успехов\" в серии длинной из n-экспериментов.\n",
    "\n",
    "Результаты `MLE` для параметров появления события всех для всех четырёх распределений **напрямую связаны с относительной частотой появления событий**.\n",
    "\n",
    "* Распределения Бернулли и Биномиальное:\n",
    "\n",
    "MLE для $p$:\n",
    "\n",
    "  Оценка параметра  $p$  (вероятность успеха) равна **относительной частоте успехов** в данных:  \n",
    "\n",
    "$\\hat{p} = \\frac{\\text{число успехов}}{\\text{общее число испытаний}}$\n",
    "\n",
    "Для акции, считаем долю людей поучаствовавших в акции.\n",
    "\n",
    "* Категориальное и Мультиномиальное распределения:\n",
    "\n",
    "MLE для $p_i$:\n",
    "\n",
    "  Оценка вероятности каждой категории $p_i$ равна **относительной частоте её появления**:\n",
    "\n",
    "  \n",
    "$\\hat{p}_i = \\frac{\\text{число наблюдений категории } i}{\\text{общее число испытаний}}$"
   ]
  },
  {
   "cell_type": "markdown",
   "id": "6b08bbeb",
   "metadata": {},
   "source": [
    "![image](images/special_offer_calc.png)"
   ]
  },
  {
   "cell_type": "markdown",
   "id": "cdd5cd09",
   "metadata": {},
   "source": [
    "Общая закономерность\n",
    "\n",
    "Во всех случаях **MLE сводится к вычислению выборочных пропорций** (относительных частот).\n",
    "\n",
    "Это связано с тем, что:  \n",
    "\n",
    "1. Функция правдоподобия для этих распределений пропорциональна произведению вероятностей наблюдаемых исходов.  \n",
    "\n",
    "2. Максимизация этой функции требует, чтобы оценки параметров соответствовали наблюдаемым частотам.  \n",
    "\n",
    "**Теоретическое обоснование**  \n",
    "\n",
    "Связь MLE и относительной частоты подтверждается:  \n",
    "\n",
    "- **Законом больших чисел**: При увеличении числа испытаний относительная частота сходится к истинной вероятности .  \n",
    "\n",
    "- **Интегральной теоремой Муавра-Лапласа**: Относительная частота и вероятность становятся близки при большом числе испытаний .  \n",
    "\n",
    "Согласно MLE для этих распределений **вероятности можно оценивать через наблюдаемые частоты встречаемости**."
   ]
  },
  {
   "cell_type": "markdown",
   "id": "2f312376",
   "metadata": {},
   "source": [
    "## Байесовский вывод"
   ]
  },
  {
   "cell_type": "markdown",
   "id": "b617727f",
   "metadata": {},
   "source": [
    "![image](images/Bayesian_inference.png)"
   ]
  },
  {
   "cell_type": "markdown",
   "id": "066cf4ce",
   "metadata": {},
   "source": [
    "**Likelihood (функция правдоподобия)** и **Prior (априорная вероятность)** — ключевые компоненты байесовского вывода.\n",
    "\n",
    "Их определения и взаимосвязь:\n",
    "\n",
    "### **1. Prior (Априорная вероятность)**\n",
    "\n",
    "**Определение**:\n",
    "  \n",
    "Это начальное распределение вероятностей параметров модели до наблюдения данных. Оно отражает предварительные знания или убеждения о возможных значениях параметров.  \n",
    "\n",
    "Например, если мы моделируем вероятность участия в Акции, априорное распределение может быть основано на исторических данных или экспертных оценках.\n",
    "\n",
    "- **Особенности**:  \n",
    "  - Субъективно: может включать экспертные мнения или результаты предыдущих экспериментов .  \n",
    "  - Используется для формирования *априорного предсказательного распределения* (prior predictive distribution), которое оценивает ожидаемые данные до их сбора.\n",
    "\n",
    "### **2. Likelihood (Функция правдоподобия)**  \n",
    "- **Определение**:  \n",
    "  Оценивает, насколько вероятны наблюдаемые данные при заданных значениях параметров модели.\n",
    "  \n",
    "Правдоподобие является распределением данных $P(\\text{данные} | \\theta)$, где $\\theta $ — параметры.  \n",
    "\n",
    "### **3. Взаимодействие в байесовском выводе**  \n",
    " \n",
    "- **Prior** — начальные убеждения о параметрах ,  \n",
    "- **Likelihood** — информация из данных ,  \n",
    "- **Постериорное распределение** — обновленные знания после анализа данных.  \n",
    "\n",
    "Рассмотрим пример."
   ]
  },
  {
   "cell_type": "markdown",
   "id": "2f660dc1",
   "metadata": {},
   "source": [
    "Таблица сопряженных распределений\n",
    "\n",
    "Conjugate prior - Wikipedia\n",
    "https://en.wikipedia.org/wiki/Conjugate_prior#cite_note-beta-interp-5\n"
   ]
  },
  {
   "cell_type": "markdown",
   "id": "fa617df0",
   "metadata": {},
   "source": [
    "Beta Distribution Applet/Calculator\n",
    "\n",
    "https://homepage.divms.uiowa.edu/~mbognar/applets/beta.html"
   ]
  },
  {
   "cell_type": "markdown",
   "id": "a47a814a",
   "metadata": {},
   "source": [
    "# Работа с несколькими событиями происходящими одновременно"
   ]
  },
  {
   "cell_type": "markdown",
   "id": "a029ee98",
   "metadata": {},
   "source": [
    "## Условная вероятность "
   ]
  },
  {
   "cell_type": "markdown",
   "id": "1f2bf850",
   "metadata": {},
   "source": [
    "`Conditional probability` - английский термин в статьях.\n",
    "\n",
    "`Условная вероятность` — это вероятность наступления одного события при условии, что другое событие уже произошло.\n",
    "\n",
    "Обозначается как $P(A|B)$, что читается как \"вероятность события $A$ при условии, что событие $B$ уже произошло\".\n",
    "\n",
    "Условная вероятность события (A) при условии произошедшего события (B) определяется по формуле:\n",
    "\n",
    "$$ P(A|B) = \\frac{P(A \\cap B)}{P(B)} $$\n",
    "Работая с вероятностями их удобно визуализировать диаграммой Эйлера-Венна ([ссылка](https://ru.wikipedia.org/wiki/Диаграмма_Венна))."
   ]
  },
  {
   "cell_type": "markdown",
   "id": "5a4ee5f5",
   "metadata": {},
   "source": [
    "Рассмотрим задачу:\n",
    "* мы бросаем игральную кость. Может выпасть число очков 1,2,3,4,5,6.\n",
    "Пространство элементарных событий возможных исходов эксперимента $\\Omega=\\{1,2,3,4,5,6\\}$.\n",
    "\n",
    "События мы задаем как подмножества множества элементарных исходов.\n",
    "У нас есть события:\n",
    "* $A$ — событие выпадения четного числа очков на кубике $\\Omega_A=\\{2, 4, 6\\}$\n",
    "* $B$ — событие выпадения числа большего 3 очков на кубике $\\Omega_B= \\{4, 5, 6\\}$\n",
    "\n",
    "Нам нужно найти условную вероятность $P(A|B)$ - \"вероятность того, что произойдет А при условии, что B уже произошло\".\n",
    "\n",
    "Поскольку мы работаем с множествами, мы можем визуализировать их диаграммой Эйлера-Венна ([ссылка](https://ru.wikipedia.org/wiki/Диаграмма_Венна)).\n",
    "Изобразим имеющиеся события на диаграмме Эйлера-Венна:\n",
    "\n",
    "![image](images/eiler_diagram_1.png)"
   ]
  },
  {
   "cell_type": "markdown",
   "id": "c2729616",
   "metadata": {},
   "source": [
    "Рассчитаем вероятности событий:\n",
    "* $P(A) = \\frac{3}{6} = \\frac{1}{2}$\n",
    "* $P(B) = \\frac{3}{6} = \\frac{1}{2}$\n",
    "\n",
    " **Найдем по диаграмме Эйлера-Венна:**\n",
    "* $P(A|B)$ - \"вероятность того, что произойдет А при условии, что B уже произошло\".\n",
    "\n",
    "Мы знаем, что случилось B, поэтому все наше пространство возможных исходов событий сокращается до  $\\Omega_{A \\cap B}= \\{4, 6\\}$.\n",
    "Других исходов эксперимента у нас при этом условии уже нет.\n",
    "Покажем цветом на диаграмме Эйлера-Венна только оставшиеся варианты:\n",
    "\n",
    "![image](images/eiler_diagram_2.png)"
   ]
  },
  {
   "cell_type": "markdown",
   "id": "00ba795d",
   "metadata": {},
   "source": [
    "От cобытия А у нас остались еще возможные исходы $\\{4,6 \\}$.\n",
    "Это события из $A \\cap B$ - пересечения множеств исходов для событий A и B.\n",
    "* $\\Omega= \\{4, 6\\}$\n",
    "* $P(A \\cap B)=\\frac{2}{6}=\\frac{1}{3}$\n",
    "\n",
    "Условная вероятность $P(A|B)$:\n",
    "\n",
    "* $P(A|B) = \\frac{\\text{число благоприятных исходов}}{\\text{общее число возможных исходов}} =\\frac{P(A \\cap B)}{P(B)}$\n",
    "* $P(A|B) = \\frac{P(A \\cap B)}{P(B)} = \\frac{\\frac{1}{3}}{\\frac{1}{2}} = \\frac{2}{3}$"
   ]
  },
  {
   "cell_type": "markdown",
   "id": "dbd3ed82",
   "metadata": {},
   "source": [
    "## Совместная вероятность (Joint Probability)"
   ]
  },
  {
   "cell_type": "markdown",
   "id": "bf9b2c52",
   "metadata": {},
   "source": [
    "Совместная вероятность — это вероятность того, что два или более события произойдут одновременно. \n",
    "Другими словами, это вероятность того, что все указанные события произойдут вместе.\n",
    "\n",
    "### Обозначение и формула\n",
    "\n",
    "Если у нас есть два события (A) и (B), их совместная вероятность обозначается как $P(A \\cap B)$. \n",
    "Формулу для вычисления совместной вероятности выводим $P(A \\cap B)$ из определения условной вероятности:   \n",
    " $$P(A \\cap B) = P(A|B) \\cdot P(B) $$\n",
    "   Аналогично, можно записать:\n",
    "   $$ P(A \\cap B) = P(B|A) \\cdot P(A)$$\n",
    "Таким образом, мы получили **правило цепи для двух событий**:\n",
    "$$ P(A \\cap B) = P(A|B) \\cdot P(B) = P(B|A) \\cdot P(A) $$\n",
    "- $P(A)$ — вероятность события $A$,\n",
    "- $P(B|A)$ — условная вероятность события $B$ при условии, что событие $A$ уже произошло,\n",
    "- $P(B)$ — вероятность события $B$,\n",
    "- $P(A|B)$ — условная вероятность события \\(A\\) при условии, что событие $B$ уже произошло.\n",
    "\n",
    "### Важные свойства\n",
    "\n",
    "1. Нормировка:\n",
    "- Совместная вероятность всегда находится в диапазоне от 0 до 1.\n",
    "2. Независимость:\n",
    "- Если события (A) и (B) независимы, то "
   ]
  },
  {
   "cell_type": "markdown",
   "id": "695c8199",
   "metadata": {},
   "source": [
    "### Правило цепи (Chain Rule) в теории вероятностей"
   ]
  },
  {
   "cell_type": "markdown",
   "id": "79a612df",
   "metadata": {},
   "source": [
    "Правило цепи (Chain Rule) в теории вероятностей ([ссылка](https://en.wikipedia.org/wiki/Chain_rule_(probability))) позволяет выразить совместную вероятность нескольких событий через условные вероятности. Это правило является одним из фундаментальных инструментов в теории вероятностей и статистике.\n",
    "\n",
    "Для 2 событий мы его уже знаем:\n",
    "* Зависимые события: $P(A_1 \\cap A_2) = P(A_1) \\cdot P(A_2|A_1)$\n",
    "* Независимые события: $P(A \\cap B) = P(A) \\cdot P(B)$\n",
    "\n",
    "Для 3 событий событий $A_1, A_2, A_3$:\n",
    "* Зависимые события:  $P(A_1 \\cap A_2 \\cap A_3) = P(A_1) \\cdot P(A_2|A_1) \\cdot P(A_3|A_1 \\cap A_2)$\n",
    "* Независимые события: $P(A_1 \\cap A_2 \\cap A_3) = P(A_1) \\cdot P(A_2) \\cdot P(A_3)$\n",
    "\n",
    "Для 4 событий $A_1, A_2, A_3, A_4$:\n",
    "* Зависимые события:  $(A_1 \\cap A_2 \\cap A_3 \\cap A_4) = P(A_1) \\cdot P(A_2|A_1) \\cdot P(A_3|A_1 \\cap A_2) \\cdot P(A_4|A_1 \\cap A_2 \\cap A_3)$\n",
    "* Независимые события: $(A_1 \\cap A_2 \\cap A_3 \\cap A_4) = P(A_1) \\cdot P(A_2) \\cdot P(A_3) \\cdot P(A_4)$\n",
    "\n",
    "![image](images/chain_rule_for_probability.png)"
   ]
  },
  {
   "cell_type": "markdown",
   "id": "a1de7470",
   "metadata": {},
   "source": [
    "## Вывод Правила цепи (chain rule)"
   ]
  },
  {
   "cell_type": "markdown",
   "id": "e424ea7e",
   "metadata": {},
   "source": [
    "**Правило цепи (chain rule) для двух событий**\n",
    "\n",
    "Из определения условной вероятности:\n",
    "\n",
    "$P(A_2 \\mid A_1) = \\frac{P(A_1, A_2)}{P(A_1)}$.\n",
    "\n",
    "Следует Правило цепи (chain rule) для двух событий:\n",
    "\n",
    "$P(A_1, A_2) = P(A_1) \\cdot P(A_2 \\mid A_1)$\n",
    "\n",
    "**Вывод цепного правила для трёх зависимых событий $A_1, A_2, A_3$:**\n",
    "\n",
    "Совместная вероятность $P(A_1, A_2, A_3)$ описывает вероятность одновременного наступления всех трёх событий $A_1, A_2, A_3$.\n",
    "\n",
    "Здесь мы:\n",
    "- Введем событие $(\\underline{A_1, A_2})$ - заключающееся в том, что случились одновременно и $A_1$ и $A_2$.\n",
    "- Затем учитываем вероятность $A_3$ при условии, что $A_1$ и $A_2$ уже произошли.\n",
    "\n",
    "Тогда совместная вероятность трёх событий $P(A_1, A_2, A_3)$ может быть разложена через Правило цепи (chain rule) для двух событий:\n",
    "   \n",
    "   $P(\\underline{A_1,A_2},A_3)=P(\\underline{A_1,A_2})\\cdot P(A_3\\mid\\underline{A_1,A_2})$\n",
    "   \n",
    "**Рекурсивное применение правила для двух событий**\n",
    "   \n",
    "А теперь, просто применим Правило цепи (chain rule) для двух событий к $P(\\underline{A_1,A_2})$, теперь уже рассматривая его не как вероятность одного события, а совместного наступления двух, - $A_1$ и $A_2$.\n",
    "\n",
    "Заменим $P(A_1, A_2)$ в предыдущей формуле, и получим итоговый результат:\n",
    "\n",
    "$P(A_1, A_2, A_3) = P(A_1) \\cdot P(A_2 \\mid A_1) \\cdot P(A_3 \\mid A_1, A_2)$\n",
    "\n",
    "**Примечания:**  \n",
    "- Порядок событий может быть произвольным. Например, если начать с $A_2$, то:\n",
    "\n",
    "$P(A_1, A_2, A_3) = P(A_2) \\cdot P(A_1 \\mid A_2) \\cdot P(A_3 \\mid A_1, A_2)$\n",
    "\n",
    "- Для независимых событий условные вероятности упрощаются: \\( P(A_2 \\mid A_1) = P(A_2) \\), \\( P(A_3 \\mid A_1, A_2) = P(A_3) \\), и формула становится произведением безусловных вероятностей [[2]].\n",
    "\n",
    "### **Почему это работает?**\n",
    "\n",
    "- **Условная вероятность** позволяет последовательно \"уточнять\" информацию о наступлении событий.\n",
    "Сначала мы учитываем $A_1$, затем $A_2$ при условии $A_1$, и наконец $A_3$ при условии $A_1$ и $A_2$.\n",
    "\n",
    "- **Ассоциативность пересечения событий**:  \n",
    "  $P(A_1, A_2, A_3) = P((A_1, A_2) \\cap A_3)$. \n",
    "\n",
    "Это позволяет разделить сложное пересечение на шаги.\n",
    "### **Пример**\n",
    "\n",
    "Предположим:\n",
    "- $A_1$: Идёт дождь.\n",
    "- $A_2$: На улице холодно.\n",
    "- $A_3$: Человек взял зонт.\n",
    "\n",
    "Тогда:\n",
    "- $P(A_1)$: Вероятность дождя.\n",
    "- $P(A_2 \\mid A_1)$: Вероятность холода при условии дождя.\n",
    "- $P((A_3 \\mid A_1, A_2)$: Вероятность взятия зонта при условии дождя и холода.\n",
    "\n",
    "Цепное правило связывает эти условные вероятности в единую формулу .\n",
    "\n",
    "### Независимые события\n",
    "\n",
    "Если события независимы, то:\n",
    "$P(A_2 \\mid A_1) = P(A_2), \\quad P(A_3 \\mid A_1, A_2) = P(A_3)$\n",
    "\n",
    "и формула упрощается до произведения безусловных вероятностей:\n",
    "$P(A_1, A_2, A_3) = P(A_1) \\cdot P(A_2) \\cdot P(A_3)$\n"
   ]
  },
  {
   "cell_type": "markdown",
   "id": "3bfde6af",
   "metadata": {},
   "source": [
    "### Совместное распределение и \"Расщепление вероятностей\"\n",
    "\n",
    "* Событие А - \"открыть сундук отмычкой\" из примера для распределения Бернулли. $\\Omega_A= \\{A_0, A_1\\}$.\n",
    "* Событие B - \"в сундуке предмет опр. ценности\" из примера для Категориального распределения $\\Omega_B= \\{B_0, B_1, B_2\\}$.\n",
    "\n",
    "Хотим рассмотреть совместное дискретное распределение вероятностей.\n",
    "Т.е. хотим определить вероятности всех возможных совместных событий (попарно):\n",
    "\n",
    "$P(A_i \\cap B_k) = P(A_i|B_k) \\cdot P(B_k) = P(B_k|A_i) \\cdot P(A_i)$ при $i \\in \\{0,1\\}$ и $k \\in \\{0,1,2\\}$\n",
    "\n",
    "Наши события A и B независимы , поэтому:\n",
    "$P(A_i \\cap B_k) = P(A_i) \\cdot P(B_k)$\n",
    "\n",
    "Наше распределение совместной вероятности событий A и B можно записать  виде таблицы:\n",
    "\n",
    "| A\\B                | B0 - дешевый предмет | B1 - обычный предмет | B2 - ценный предмет |     |\n",
    "| ------------------ | -------------------- | -------------------- | ------------------- | --- |\n",
    "| A0 - сундук закрыт | 0.5 * 0.7 = 0.35     | 0.3 * 0.7 = 0.21     | 0.2 * 0.7 = 0.14    | 0.7 |\n",
    "| A1 - сундук открыт | 0.5 * 0.3 = 0.15     | 0.3 * 0.3 = 0.09     | 0.2 * 0.3 = 0.06    | 0.3 |\n",
    "|                    | 0.5                  | 0.3                  | 0.2                 |     |\n",
    "На пересечении $i$-той строки и $k$-того столбца будет вероятность совместного происхождения событий $A_i \\cap B_k$:\n",
    "* $P(A_i \\cap B_k) = P(A_i) \\cdot P(B_k)$\n",
    "\n",
    "Например:\n",
    "* событие \"сундук открыт и внутри ценный предмет\", т.е. $A_1 \\cap B_2 =0.2 * 0.3 = 0.06$\n",
    "\n",
    "При этом:\n",
    "* ${\\sum}_{i=0}^nP\\left(A_i\\right)P\\left(B_i\\right)=P\\left(B_i\\right)$ - получим \"исходную\" вероятность события $B_i$\n",
    "\n",
    "Вероятность события $B_i$ как \"поделилась/расщепилась\" на события $A_0, A_1$\n",
    "\n",
    "* ${\\sum}_{k=0}^mP\\left(A_i\\right)P\\left(B_i\\right)=P(A_i)$ - получим \"исходную\" вероятность события $A_i$\n",
    "\n",
    "Вероятность события $A_i$ как \"поделилась/расщепилась\" на события $B_0, B_1, B_2$\n",
    "\n",
    "Таким образом сумма вероятностей всех возможных комбинаций событий без учета порядка элементов:\n",
    "${\\sum}_{i=0}^n{\\sum}_{k=0}^mP\\left(A_i\\right)P\\left(B_i\\right)=1$\n",
    "\n",
    "Для нашего примера:\n",
    "0.35 + 0.21 + 0.14 + 0.15 + 0.09 + 0.06 = 1\n"
   ]
  },
  {
   "cell_type": "markdown",
   "id": "8c3b6846",
   "metadata": {},
   "source": [
    "# Генератор стиля\n"
   ]
  },
  {
   "cell_type": "markdown",
   "id": "4d02c4d6",
   "metadata": {},
   "source": [
    "Даны примеры популярных стилей жителей города N. Необходимо сделать генератор новых стилей для них."
   ]
  },
  {
   "cell_type": "markdown",
   "id": "38848962",
   "metadata": {},
   "source": [
    "![title](images/style.png)"
   ]
  },
  {
   "cell_type": "markdown",
   "id": "78797087",
   "metadata": {},
   "source": [
    "Сделаем список различных элементов стиля:\n"
   ]
  },
  {
   "cell_type": "code",
   "execution_count": 11,
   "id": "deb8465a",
   "metadata": {},
   "outputs": [],
   "source": [
    "styles = {\n",
    "    \"прическа\": [\n",
    "        \"нет волос\",\n",
    "        \"длинные в пучок\",\n",
    "        \"длинные волнистые\",\n",
    "        \"длинные прямые\",\n",
    "        \"короткая волнистые\",\n",
    "        \"короткая прямые\",\n",
    "        \"короткая курчавые\",\n",
    "    ],\n",
    "    \"цвет волос\": [\n",
    "        \"черный\",\n",
    "        \"блонд\",\n",
    "        \"каштановый\",\n",
    "        \"пастельный розовый\",\n",
    "        \"рыжий\",\n",
    "        \"серебристо серый\",\n",
    "    ],\n",
    "    \"аксесуар\": [\n",
    "        \"нет очков\",\n",
    "        \"круглые очки\",\n",
    "        \"солнцезащитные очки\",\n",
    "    ],\n",
    "    \"одежда\": [\n",
    "        \"худи\",\n",
    "        \"комбинезон\",\n",
    "        \"футболка с круглым вырезом\",\n",
    "        \"футболка с V-вырезом\",\n",
    "    ],\n",
    "    \"цвет одежды\": [\n",
    "        \"черный\",\n",
    "        \"синий\",\n",
    "        \"серый\",\n",
    "        \"зеленый\",\n",
    "        \"оранжевый\",\n",
    "        \"розовый\",\n",
    "        \"красный\",\n",
    "        \"белый\",\n",
    "    ],\n",
    "}"
   ]
  },
  {
   "cell_type": "code",
   "execution_count": 12,
   "id": "a010afa0",
   "metadata": {},
   "outputs": [
    {
     "data": {
      "text/plain": [
       "4032"
      ]
     },
     "execution_count": 12,
     "metadata": {},
     "output_type": "execute_result"
    }
   ],
   "source": [
    "param_counts = 1\n",
    "for s in styles.values():\n",
    "    param_counts *= len(s)\n",
    "param_counts"
   ]
  },
  {
   "cell_type": "code",
   "execution_count": 13,
   "id": "f1176dd8",
   "metadata": {},
   "outputs": [],
   "source": [
    "styles_count = {\n",
    "    \"прическа\": [7, 0, 1, 23, 1, 11, 7],\n",
    "    \"цвет волос\": [\n",
    "        7,\n",
    "        6,\n",
    "        2,\n",
    "        3,\n",
    "        8,\n",
    "        24,\n",
    "    ],\n",
    "    \"аксесуар\": [\n",
    "        11,\n",
    "        22,\n",
    "        17,\n",
    "    ],\n",
    "    \"одежда\": [\n",
    "        7,\n",
    "        18,\n",
    "        19,\n",
    "        6,\n",
    "    ],\n",
    "    \"цвет одежды\": [4, 5, 6, 8, 6, 8, 7, 6],\n",
    "}"
   ]
  },
  {
   "cell_type": "code",
   "execution_count": 14,
   "id": "4acd2a46",
   "metadata": {},
   "outputs": [
    {
     "name": "stdout",
     "output_type": "stream",
     "text": [
      "прическа 50\n",
      "цвет волос 50\n",
      "аксесуар 50\n",
      "одежда 50\n",
      "цвет одежды 50\n"
     ]
    }
   ],
   "source": [
    "for k in styles_count.keys():\n",
    "    summ = 0\n",
    "    for s in styles_count[k]:\n",
    "        summ += s\n",
    "    print(k, summ)"
   ]
  },
  {
   "cell_type": "markdown",
   "id": "c5c6b0e2",
   "metadata": {},
   "source": [
    "Реализуйте следующие модели:"
   ]
  },
  {
   "cell_type": "markdown",
   "id": "f73d56ac",
   "metadata": {},
   "source": [
    "### Полиномиальная модель"
   ]
  },
  {
   "cell_type": "markdown",
   "id": "712ef186",
   "metadata": {},
   "source": [
    "![title](images/polynom.png)"
   ]
  },
  {
   "cell_type": "markdown",
   "id": "2fe92922",
   "metadata": {},
   "source": [
    "### Аддитивное сглаживание (MLE)"
   ]
  },
  {
   "cell_type": "markdown",
   "id": "efd96701",
   "metadata": {},
   "source": [
    "![title](images/MLE.png)"
   ]
  },
  {
   "cell_type": "markdown",
   "id": "c8897dbc",
   "metadata": {},
   "source": [
    "Подробные формулы для наивной байесовской модели с MLE:\n",
    "![title](images/formla1.png)\n",
    "![title](images/formula2.png)"
   ]
  },
  {
   "cell_type": "markdown",
   "id": "9283227d",
   "metadata": {},
   "source": [
    "### Полиномиальная модель с MLE для пикселей"
   ]
  },
  {
   "cell_type": "markdown",
   "id": "c557cd7d",
   "metadata": {},
   "source": [
    "![title](images/pixels.png)"
   ]
  },
  {
   "cell_type": "markdown",
   "id": "eb88c180",
   "metadata": {},
   "source": [
    "![title](images/style2.png)"
   ]
  },
  {
   "cell_type": "markdown",
   "id": "00ebac2b",
   "metadata": {},
   "source": [
    "![title](images/pixgen.png)"
   ]
  },
  {
   "cell_type": "markdown",
   "id": "ca1b945b",
   "metadata": {},
   "source": [
    "Как думаете почему наивная байесовская модель плохо справилась с задачей?"
   ]
  },
  {
   "cell_type": "markdown",
   "id": "1ce47803",
   "metadata": {},
   "source": [
    "#### Сложности генеративного моделирования\n",
    "\n",
    "* Как модель может справиться с высокой условной взаимозависимостью признаков?\n",
    "\n",
    "* Как модель может отыскать одну из крошечных пропорций, чтобы получить удовлетворительное наблюдение в многомерном выборочном пространстве?"
   ]
  },
  {
   "cell_type": "markdown",
   "id": "ec56903e",
   "metadata": {},
   "source": [
    "## Скрытое представление"
   ]
  },
  {
   "cell_type": "markdown",
   "id": "8afd45b3",
   "metadata": {},
   "source": [
    "Набор образцов тортов:\n",
    "    \n",
    "![title](images/tort1.png)"
   ]
  },
  {
   "cell_type": "markdown",
   "id": "5c600c52",
   "metadata": {},
   "source": [
    "А вот так выглядит скрытое представление всех возможных тортов:\n",
    "![title](images/tort2.png)    "
   ]
  },
  {
   "cell_type": "markdown",
   "id": "9e78fe4f",
   "metadata": {},
   "source": [
    "Опишите функцию __f__, если мин высота торта 5 у.е., мин радиус 3 у.е., макс высота торта 25 у.е., макс радиус 35 у.е."
   ]
  },
  {
   "cell_type": "markdown",
   "id": "fb0f0d1b",
   "metadata": {},
   "source": [
    "И последний пример скрытого представления:\n",
    "![title](images/latent.png)    "
   ]
  },
  {
   "cell_type": "markdown",
   "id": "3989e3cc",
   "metadata": {},
   "source": [
    "# Дополнительные материалы"
   ]
  },
  {
   "cell_type": "markdown",
   "id": "e43edc89",
   "metadata": {},
   "source": [
    "1. Два подхода к математической статистике\n",
    "\n",
    "Рекомендую посмотреть лекции (по желанию) сравнивающие два этих подхода:\n",
    "* Лекция от Дмитрия Ветрова ([ссылка](https://youtu.be/Ejsr3S79gcQ?si=xRYtdR4coVRfauk3&t=1020))\n",
    "* Лекция от Филиппа Ульянкина ([ссылка](https://youtu.be/3ejA7UYy6Jk?si=Wni6LVZhytf13UvJ))\n",
    "\n",
    "`Математическая статистика` и ее\n",
    "* `Частотный`  и\n",
    "* `Байесовский`\n",
    "\n",
    "подходы очень интересны, но это большие темы, которые даже обзорно затруднительно полностью рассмотреть в рамках одной лекции.\n",
    "\n",
    "Мы остановимся только на\n",
    "* Методе Максимального Правдоподобия (Maximum likelihood estimation, сокр. `MLE`)\n",
    "\n",
    "Более подробно про `Математическую статистику` можно узнать из `великолепных бесплатных курсов`:\n",
    "* Дмитрий Ветров \"Байесовские методы в машинном обучении\" ([ссылка YouTube](https://youtube.com/playlist?list=PLEqoHzpnmTfCiJpMPccTWXD9DB4ERQkyw), [описание курса](http://www.machinelearning.ru/wiki/index.php?title=Бммо)).\n",
    "* Ульянкин Филипп и Демешев Борис \"Прикладная статистика\" ([ссылка YouTube](https://www.youtube.com/@Прикладнаястатистика/playlists), [ссылка github-репо курса](https://github.com/FUlyankin/matstat-AB))\n",
    "\n",
    "Это доп. материал для интересующихся, для прохождения нашего курса в обязательном порядке он не требуется.   \n",
    "\n",
    "3. MLE для распределения Бернулли\n",
    "\n",
    "P.S. Подробный вывод показан в видео([ссылка](https://youtu.be/-NDFLb4bq60?si=Ff1dG91NWdJpc6Tx)) у Филлипа Ульянкина.\n",
    "\n",
    "4. MLE для Категориального распределения\n",
    "\n",
    "P.S. Подробный вывод показан в видео([ссылка](https://youtu.be/nLzQINlbSPg?si=htaHf746846JRuAD)).\n",
    "\n",
    "5. Байесовский вывод\n",
    "\n",
    "Таблица сопряженных распределений\n",
    "\n",
    "Conjugate prior - Wikipedia\n",
    "https://en.wikipedia.org/wiki/Conjugate_prior#cite_note-beta-interp-5\n",
    "\n",
    "Beta Distribution Applet/Calculator\n",
    "\n",
    "https://homepage.divms.uiowa.edu/~mbognar/applets/beta.html"
   ]
  }
 ],
 "metadata": {
  "kernelspec": {
   "display_name": "Python 3",
   "language": "python",
   "name": "python3"
  },
  "language_info": {
   "codemirror_mode": {
    "name": "ipython",
    "version": 3
   },
   "file_extension": ".py",
   "mimetype": "text/x-python",
   "name": "python",
   "nbconvert_exporter": "python",
   "pygments_lexer": "ipython3",
   "version": "3.10.16"
  }
 },
 "nbformat": 4,
 "nbformat_minor": 5
}
